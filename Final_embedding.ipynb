{
  "cells": [
    {
      "cell_type": "code",
      "execution_count": null,
      "metadata": {
        "execution": {
          "iopub.execute_input": "2025-02-09T02:00:06.337971Z",
          "iopub.status.busy": "2025-02-09T02:00:06.337620Z",
          "iopub.status.idle": "2025-02-09T02:00:06.344795Z",
          "shell.execute_reply": "2025-02-09T02:00:06.344138Z",
          "shell.execute_reply.started": "2025-02-09T02:00:06.337946Z"
        },
        "trusted": true,
        "id": "8BY5LHxLexAk",
        "outputId": "81ba92cd-6f31-44b6-ef24-86a0cb00c7c0"
      },
      "outputs": [
        {
          "name": "stdout",
          "output_type": "stream",
          "text": [
            "/kaggle/input/330k-arabic-sentiment-reviews/arabic_sentiment_reviews.csv\n"
          ]
        }
      ],
      "source": [
        "\n",
        "\n",
        "\n",
        "import numpy as np\n",
        "import pandas as pd\n",
        "\n",
        "import os\n",
        "for dirname, _, filenames in os.walk('/kaggle/input'):\n",
        "    for filename in filenames:\n",
        "        print(os.path.join(dirname, filename))\n"
      ]
    },
    {
      "cell_type": "code",
      "execution_count": null,
      "metadata": {
        "_cell_guid": "b1076dfc-b9ad-4769-8c92-a6c4dae69d19",
        "_uuid": "8f2839f25d086af736a60e9eeb907d3b93b6e0e5",
        "execution": {
          "iopub.execute_input": "2025-02-09T01:58:33.967218Z",
          "iopub.status.busy": "2025-02-09T01:58:33.966862Z",
          "iopub.status.idle": "2025-02-09T01:58:41.942803Z",
          "shell.execute_reply": "2025-02-09T01:58:41.942034Z",
          "shell.execute_reply.started": "2025-02-09T01:58:33.967175Z"
        },
        "trusted": true,
        "id": "eXN_kWmqexAp"
      },
      "outputs": [],
      "source": [
        "import torch\n",
        "from transformers import AutoTokenizer, AutoModel\n",
        "from sklearn.model_selection import train_test_split\n",
        "import re"
      ]
    },
    {
      "cell_type": "code",
      "execution_count": null,
      "metadata": {
        "execution": {
          "iopub.execute_input": "2025-02-09T02:03:02.199587Z",
          "iopub.status.busy": "2025-02-09T02:03:02.199207Z",
          "iopub.status.idle": "2025-02-09T02:03:02.203822Z",
          "shell.execute_reply": "2025-02-09T02:03:02.202912Z",
          "shell.execute_reply.started": "2025-02-09T02:03:02.199560Z"
        },
        "trusted": true,
        "id": "brR4s2FgexAq"
      },
      "outputs": [],
      "source": [
        "from IPython.core.interactiveshell import InteractiveShell\n",
        "InteractiveShell.ast_node_interactivity = 'all'\n",
        "# to run more than output in the same cell\n",
        "pd.set_option('display.max_colwidth', None)"
      ]
    },
    {
      "cell_type": "code",
      "execution_count": null,
      "metadata": {
        "execution": {
          "iopub.execute_input": "2025-02-09T02:03:05.951227Z",
          "iopub.status.busy": "2025-02-09T02:03:05.950801Z",
          "iopub.status.idle": "2025-02-09T02:03:10.264374Z",
          "shell.execute_reply": "2025-02-09T02:03:10.263414Z",
          "shell.execute_reply.started": "2025-02-09T02:03:05.951179Z"
        },
        "trusted": true,
        "id": "JxKoxktZexAr",
        "outputId": "388eaa3c-b8d5-4b43-89f0-893fd20f322e"
      },
      "outputs": [
        {
          "data": {
            "text/html": [
              "<div>\n",
              "<style scoped>\n",
              "    .dataframe tbody tr th:only-of-type {\n",
              "        vertical-align: middle;\n",
              "    }\n",
              "\n",
              "    .dataframe tbody tr th {\n",
              "        vertical-align: top;\n",
              "    }\n",
              "\n",
              "    .dataframe thead th {\n",
              "        text-align: right;\n",
              "    }\n",
              "</style>\n",
              "<table border=\"1\" class=\"dataframe\">\n",
              "  <thead>\n",
              "    <tr style=\"text-align: right;\">\n",
              "      <th></th>\n",
              "      <th>label</th>\n",
              "      <th>content</th>\n",
              "    </tr>\n",
              "  </thead>\n",
              "  <tbody>\n",
              "    <tr>\n",
              "      <th>0</th>\n",
              "      <td>1</td>\n",
              "      <td>النعال المريحة: أرتدي هذه النعال كثيرًا!فهي دافئة ومريحة وبأسعار معقولة لجودة رائعة.زوجي وأنا على حد سواء لدينا زوج ونحن نحبهم!</td>\n",
              "    </tr>\n",
              "    <tr>\n",
              "      <th>1</th>\n",
              "      <td>1</td>\n",
              "      <td>منتج جميل ، خدمة سيئة: لقد اشتريت زوجًا من النعال الباو الدب.باتباع إرشادات وصف المنتج ، ارتفعت حجمًا للتناسب.عندما وصلوا ، كانوا لطيفين حقًا وأحبوا.كانت كبيرة جدا.حاولت إعادة ترتيب ولم تكن متوفرة.حاولت الاتصال بـ Claussette عبر الهاتف وقيل لها البريد الإلكتروني.لقد أرسلت عبر البريد الإلكتروني معضلي وانتظرت أسبوعًا ، ولم ترد ، لقد أرسلت رسالتي الإلكترونية مرة أخرى ، قبل ثلاثة أيام.لا يوجد استجابة.أريد فقط استبدال العنصر ، أو الحصول على إجابة.</td>\n",
              "    </tr>\n",
              "    <tr>\n",
              "      <th>2</th>\n",
              "      <td>1</td>\n",
              "      <td>جيد للأشياء الصغيرة: هذا يعمل بشكل جيد لالتقاط قطع صغيرة من المجوهرات ، ولكن الذهاب ببطء.إنه مفيد ، لكن المغناطيس ليس قويًا جدًا.</td>\n",
              "    </tr>\n",
              "    <tr>\n",
              "      <th>3</th>\n",
              "      <td>0</td>\n",
              "      <td>واهية للغاية: flimsyif للغاية ، فأنت تشتريه ، كن حذرًا جدًا للغاية مع إطالة وتقصيره ، وأي استخدام على الإطلاق على الإطلاق.(بلا ​​مزاح)</td>\n",
              "    </tr>\n",
              "    <tr>\n",
              "      <th>4</th>\n",
              "      <td>1</td>\n",
              "      <td>Pop for Girls and Girly Boys ، والأشخاص الذين يحبون الضحك: عليك فقط أن تبتسم عندما تستمع إلى Book of Love ، وهم فرقة كلها هناك ، وهم ممتعون عندما لا تأخذهم إلى جادة.ليس عليك أن تكون مثليًا للاستمتاع بموسيقى ولكنها ستساعد ، أو على الأقل ودية.شرائه فقط للابتسام ، وشعر بالدوار والغموض في الداخل.</td>\n",
              "    </tr>\n",
              "  </tbody>\n",
              "</table>\n",
              "</div>"
            ],
            "text/plain": [
              "   label  \\\n",
              "0      1   \n",
              "1      1   \n",
              "2      1   \n",
              "3      0   \n",
              "4      1   \n",
              "\n",
              "                                                                                                                                                                                                                                                                                                                                                                                                                                                          content  \n",
              "0                                                                                                                                                                                                                                                                                                                                 النعال المريحة: أرتدي هذه النعال كثيرًا!فهي دافئة ومريحة وبأسعار معقولة لجودة رائعة.زوجي وأنا على حد سواء لدينا زوج ونحن نحبهم!  \n",
              "1  منتج جميل ، خدمة سيئة: لقد اشتريت زوجًا من النعال الباو الدب.باتباع إرشادات وصف المنتج ، ارتفعت حجمًا للتناسب.عندما وصلوا ، كانوا لطيفين حقًا وأحبوا.كانت كبيرة جدا.حاولت إعادة ترتيب ولم تكن متوفرة.حاولت الاتصال بـ Claussette عبر الهاتف وقيل لها البريد الإلكتروني.لقد أرسلت عبر البريد الإلكتروني معضلي وانتظرت أسبوعًا ، ولم ترد ، لقد أرسلت رسالتي الإلكترونية مرة أخرى ، قبل ثلاثة أيام.لا يوجد استجابة.أريد فقط استبدال العنصر ، أو الحصول على إجابة.  \n",
              "2                                                                                                                                                                                                                                                                                                                               جيد للأشياء الصغيرة: هذا يعمل بشكل جيد لالتقاط قطع صغيرة من المجوهرات ، ولكن الذهاب ببطء.إنه مفيد ، لكن المغناطيس ليس قويًا جدًا.  \n",
              "3                                                                                                                                                                                                                                                                                                                          واهية للغاية: flimsyif للغاية ، فأنت تشتريه ، كن حذرًا جدًا للغاية مع إطالة وتقصيره ، وأي استخدام على الإطلاق على الإطلاق.(بلا ​​مزاح)  \n",
              "4                                                                                                                                                           Pop for Girls and Girly Boys ، والأشخاص الذين يحبون الضحك: عليك فقط أن تبتسم عندما تستمع إلى Book of Love ، وهم فرقة كلها هناك ، وهم ممتعون عندما لا تأخذهم إلى جادة.ليس عليك أن تكون مثليًا للاستمتاع بموسيقى ولكنها ستساعد ، أو على الأقل ودية.شرائه فقط للابتسام ، وشعر بالدوار والغموض في الداخل.  "
            ]
          },
          "execution_count": 9,
          "metadata": {},
          "output_type": "execute_result"
        }
      ],
      "source": [
        "df = pd.read_csv(os.path.join(dirname, filename))\n",
        "df.head()"
      ]
    },
    {
      "cell_type": "code",
      "execution_count": null,
      "metadata": {
        "execution": {
          "iopub.execute_input": "2025-02-09T02:03:12.821696Z",
          "iopub.status.busy": "2025-02-09T02:03:12.821357Z",
          "iopub.status.idle": "2025-02-09T02:03:17.262998Z",
          "shell.execute_reply": "2025-02-09T02:03:17.262269Z",
          "shell.execute_reply.started": "2025-02-09T02:03:12.821652Z"
        },
        "trusted": true,
        "id": "FxgkQqW-exAr"
      },
      "outputs": [],
      "source": [
        "# Clean the dataset\n",
        "arabic_pattern = re.compile(r'[^أ-يء \\s]+')\n",
        "def remove_non_arabic(text):\n",
        "    return arabic_pattern.sub('', text)\n",
        "\n",
        "df['content'] = df['content'].apply(lambda x: str(x).replace(\".\", \" \").strip())\n",
        "df['cleaned_content'] = df['content'].apply(remove_non_arabic)\n",
        "df = df[[\"cleaned_content\", \"label\"]].dropna()\n"
      ]
    },
    {
      "cell_type": "code",
      "execution_count": null,
      "metadata": {
        "execution": {
          "iopub.execute_input": "2025-02-09T02:03:22.612527Z",
          "iopub.status.busy": "2025-02-09T02:03:22.612196Z",
          "iopub.status.idle": "2025-02-09T02:03:22.621050Z",
          "shell.execute_reply": "2025-02-09T02:03:22.619900Z",
          "shell.execute_reply.started": "2025-02-09T02:03:22.612503Z"
        },
        "trusted": true,
        "id": "4xy7kXtsexAs",
        "outputId": "de89bf2c-aa3b-4164-f74b-a4ab0b952c0b"
      },
      "outputs": [
        {
          "data": {
            "text/html": [
              "<div>\n",
              "<style scoped>\n",
              "    .dataframe tbody tr th:only-of-type {\n",
              "        vertical-align: middle;\n",
              "    }\n",
              "\n",
              "    .dataframe tbody tr th {\n",
              "        vertical-align: top;\n",
              "    }\n",
              "\n",
              "    .dataframe thead th {\n",
              "        text-align: right;\n",
              "    }\n",
              "</style>\n",
              "<table border=\"1\" class=\"dataframe\">\n",
              "  <thead>\n",
              "    <tr style=\"text-align: right;\">\n",
              "      <th></th>\n",
              "      <th>cleaned_content</th>\n",
              "      <th>label</th>\n",
              "    </tr>\n",
              "  </thead>\n",
              "  <tbody>\n",
              "    <tr>\n",
              "      <th>0</th>\n",
              "      <td>النعال المريحة أرتدي هذه النعال كثيرافهي دافئة ومريحة وبأسعار معقولة لجودة رائعة زوجي وأنا على حد سواء لدينا زوج ونحن نحبهم</td>\n",
              "      <td>1</td>\n",
              "    </tr>\n",
              "    <tr>\n",
              "      <th>1</th>\n",
              "      <td>منتج جميل  خدمة سيئة لقد اشتريت زوجا من النعال الباو الدب باتباع إرشادات وصف المنتج  ارتفعت حجما للتناسب عندما وصلوا  كانوا لطيفين حقا وأحبوا كانت كبيرة جدا حاولت إعادة ترتيب ولم تكن متوفرة حاولت الاتصال بـ  عبر الهاتف وقيل لها البريد الإلكتروني لقد أرسلت عبر البريد الإلكتروني معضلي وانتظرت أسبوعا  ولم ترد  لقد أرسلت رسالتي الإلكترونية مرة أخرى  قبل ثلاثة أيام لا يوجد استجابة أريد فقط استبدال العنصر  أو الحصول على إجابة</td>\n",
              "      <td>1</td>\n",
              "    </tr>\n",
              "    <tr>\n",
              "      <th>2</th>\n",
              "      <td>جيد للأشياء الصغيرة هذا يعمل بشكل جيد لالتقاط قطع صغيرة من المجوهرات  ولكن الذهاب ببطء إنه مفيد  لكن المغناطيس ليس قويا جدا</td>\n",
              "      <td>1</td>\n",
              "    </tr>\n",
              "    <tr>\n",
              "      <th>3</th>\n",
              "      <td>واهية للغاية  للغاية  فأنت تشتريه  كن حذرا جدا للغاية مع إطالة وتقصيره  وأي استخدام على الإطلاق على الإطلاق بلا مزاح</td>\n",
              "      <td>0</td>\n",
              "    </tr>\n",
              "    <tr>\n",
              "      <th>4</th>\n",
              "      <td>والأشخاص الذين يحبون الضحك عليك فقط أن تبتسم عندما تستمع إلى     وهم فرقة كلها هناك  وهم ممتعون عندما لا تأخذهم إلى جادة ليس عليك أن تكون مثليا للاستمتاع بموسيقى ولكنها ستساعد  أو على الأقل ودية شرائه فقط للابتسام  وشعر بالدوار والغموض في الداخل</td>\n",
              "      <td>1</td>\n",
              "    </tr>\n",
              "  </tbody>\n",
              "</table>\n",
              "</div>"
            ],
            "text/plain": [
              "                                                                                                                                                                                                                                                                                                                                                                                                                           cleaned_content  \\\n",
              "0                                                                                                                                                                                                                                                                                                              النعال المريحة أرتدي هذه النعال كثيرافهي دافئة ومريحة وبأسعار معقولة لجودة رائعة زوجي وأنا على حد سواء لدينا زوج ونحن نحبهم   \n",
              "1  منتج جميل  خدمة سيئة لقد اشتريت زوجا من النعال الباو الدب باتباع إرشادات وصف المنتج  ارتفعت حجما للتناسب عندما وصلوا  كانوا لطيفين حقا وأحبوا كانت كبيرة جدا حاولت إعادة ترتيب ولم تكن متوفرة حاولت الاتصال بـ  عبر الهاتف وقيل لها البريد الإلكتروني لقد أرسلت عبر البريد الإلكتروني معضلي وانتظرت أسبوعا  ولم ترد  لقد أرسلت رسالتي الإلكترونية مرة أخرى  قبل ثلاثة أيام لا يوجد استجابة أريد فقط استبدال العنصر  أو الحصول على إجابة   \n",
              "2                                                                                                                                                                                                                                                                                                              جيد للأشياء الصغيرة هذا يعمل بشكل جيد لالتقاط قطع صغيرة من المجوهرات  ولكن الذهاب ببطء إنه مفيد  لكن المغناطيس ليس قويا جدا   \n",
              "3                                                                                                                                                                                                                                                                                                                     واهية للغاية  للغاية  فأنت تشتريه  كن حذرا جدا للغاية مع إطالة وتقصيره  وأي استخدام على الإطلاق على الإطلاق بلا مزاح   \n",
              "4                                                                                                                                                                                    والأشخاص الذين يحبون الضحك عليك فقط أن تبتسم عندما تستمع إلى     وهم فرقة كلها هناك  وهم ممتعون عندما لا تأخذهم إلى جادة ليس عليك أن تكون مثليا للاستمتاع بموسيقى ولكنها ستساعد  أو على الأقل ودية شرائه فقط للابتسام  وشعر بالدوار والغموض في الداخل   \n",
              "\n",
              "   label  \n",
              "0      1  \n",
              "1      1  \n",
              "2      1  \n",
              "3      0  \n",
              "4      1  "
            ]
          },
          "execution_count": 11,
          "metadata": {},
          "output_type": "execute_result"
        }
      ],
      "source": [
        "df.head()"
      ]
    },
    {
      "cell_type": "code",
      "execution_count": null,
      "metadata": {
        "execution": {
          "iopub.execute_input": "2025-02-09T02:27:13.077654Z",
          "iopub.status.busy": "2025-02-09T02:27:13.077323Z",
          "iopub.status.idle": "2025-02-09T02:27:13.227136Z",
          "shell.execute_reply": "2025-02-09T02:27:13.226316Z",
          "shell.execute_reply.started": "2025-02-09T02:27:13.077630Z"
        },
        "trusted": true,
        "id": "_SsECe4xexAt",
        "outputId": "dd212fe8-c7a8-4ca2-8a7f-7c8ad432f6ac"
      },
      "outputs": [
        {
          "name": "stdout",
          "output_type": "stream",
          "text": [
            "Training Samples: 231000, Testing Samples: 99000\n"
          ]
        }
      ],
      "source": [
        "\n",
        "train_texts, test_texts, train_labels, test_labels = train_test_split(\n",
        "    df['cleaned_content'], df['label'], test_size=0.3, stratify=df['label'], random_state=42\n",
        ")\n",
        "\n",
        "print(f\"Training Samples: {len(train_texts)}, Testing Samples: {len(test_texts)}\")\n"
      ]
    },
    {
      "cell_type": "code",
      "execution_count": null,
      "metadata": {
        "execution": {
          "iopub.execute_input": "2025-02-09T02:03:37.538173Z",
          "iopub.status.busy": "2025-02-09T02:03:37.537762Z",
          "iopub.status.idle": "2025-02-09T02:03:38.449280Z",
          "shell.execute_reply": "2025-02-09T02:03:38.448264Z",
          "shell.execute_reply.started": "2025-02-09T02:03:37.538137Z"
        },
        "trusted": true,
        "id": "-M5gpZqhexAt",
        "outputId": "997dd561-d7df-451b-b1e9-e2aea3149cbd",
        "colab": {
          "referenced_widgets": [
            "5b0cdaa6cce146b1a5fbc54c678fe8a8",
            "979fb908765644a09dda2ad991186363",
            "7d10547b1df242d1b87c2213746e27f1",
            "53c78ecf4293496d809be54bd50c7e37"
          ]
        }
      },
      "outputs": [
        {
          "data": {
            "application/vnd.jupyter.widget-view+json": {
              "model_id": "5b0cdaa6cce146b1a5fbc54c678fe8a8",
              "version_major": 2,
              "version_minor": 0
            },
            "text/plain": [
              "tokenizer_config.json:   0%|          | 0.00/62.0 [00:00<?, ?B/s]"
            ]
          },
          "metadata": {},
          "output_type": "display_data"
        },
        {
          "data": {
            "application/vnd.jupyter.widget-view+json": {
              "model_id": "979fb908765644a09dda2ad991186363",
              "version_major": 2,
              "version_minor": 0
            },
            "text/plain": [
              "config.json:   0%|          | 0.00/491 [00:00<?, ?B/s]"
            ]
          },
          "metadata": {},
          "output_type": "display_data"
        },
        {
          "data": {
            "application/vnd.jupyter.widget-view+json": {
              "model_id": "7d10547b1df242d1b87c2213746e27f1",
              "version_major": 2,
              "version_minor": 0
            },
            "text/plain": [
              "vocab.txt:   0%|          | 0.00/334k [00:00<?, ?B/s]"
            ]
          },
          "metadata": {},
          "output_type": "display_data"
        },
        {
          "data": {
            "application/vnd.jupyter.widget-view+json": {
              "model_id": "53c78ecf4293496d809be54bd50c7e37",
              "version_major": 2,
              "version_minor": 0
            },
            "text/plain": [
              "special_tokens_map.json:   0%|          | 0.00/112 [00:00<?, ?B/s]"
            ]
          },
          "metadata": {},
          "output_type": "display_data"
        }
      ],
      "source": [
        "tokenizer = AutoTokenizer.from_pretrained(\"asafaya/bert-base-arabic\")"
      ]
    },
    {
      "cell_type": "markdown",
      "metadata": {
        "id": "IzLKSvHqexAu"
      },
      "source": [
        "Inputs:\n",
        "\n",
        "`texts`: A list of text strings to tokenize.\n",
        "`batch_size`: The number of texts to process at once\n",
        "\n",
        "**Initialization:**\n",
        "\n",
        "`all_encodings` is a dictionary to store tokenized outputs (input_ids and attention_mask).\n",
        "\n",
        "**Batching:**\n",
        "\n",
        "- For each batch:\n",
        "- It tokenizes the texts\n",
        "- Applies padding\n",
        "- Truncates longer sequences.\n",
        "- Converts outputs to PyTorch tensors\n",
        "\n",
        "**Concatenation:**\n",
        "\n",
        "After processing all batches, it concatenates the `input_ids` and `attention_mask` tensors along the first dimension(rows).\n",
        "\n",
        "**Output:**\n",
        "\n",
        "Returns a dictionary with two keys:\n",
        "- `input_ids`: A tensor of tokenized text IDs.\n",
        "- `attention_mask`: A tensor indicating which tokens should be attended."
      ]
    },
    {
      "cell_type": "code",
      "execution_count": null,
      "metadata": {
        "execution": {
          "iopub.execute_input": "2025-02-09T02:21:39.523499Z",
          "iopub.status.busy": "2025-02-09T02:21:39.523140Z",
          "iopub.status.idle": "2025-02-09T02:21:39.531351Z",
          "shell.execute_reply": "2025-02-09T02:21:39.530314Z",
          "shell.execute_reply.started": "2025-02-09T02:21:39.523471Z"
        },
        "trusted": true,
        "id": "EAycEqD7exAw"
      },
      "outputs": [],
      "source": [
        "# Function for batched tokenization\n",
        "def batch_tokenize(texts, batch_size=1000):\n",
        "    \"\"\"Tokenize text data in batches and ensure uniform padding.\"\"\"\n",
        "    all_encodings = {\"input_ids\": [], \"attention_mask\": []}\n",
        "\n",
        "    for i in range(0, len(texts), batch_size):\n",
        "        batch_texts = texts[i:i + batch_size]\n",
        "\n",
        "        # Tokenize batch with fixed padding to max_length=400\n",
        "        encoded_batch = tokenizer(\n",
        "            batch_texts,\n",
        "            padding=True,\n",
        "            truncation=True,\n",
        "            max_length=128,\n",
        "            return_tensors='pt'\n",
        "        )\n",
        "\n",
        "        all_encodings[\"input_ids\"].append(encoded_batch[\"input_ids\"])\n",
        "        all_encodings[\"attention_mask\"].append(encoded_batch[\"attention_mask\"])\n",
        "\n",
        "    #  Now all tensors have the same size, so concatenation works\n",
        "    all_encodings[\"input_ids\"] = torch.cat(all_encodings[\"input_ids\"], dim=0)\n",
        "    all_encodings[\"attention_mask\"] = torch.cat(all_encodings[\"attention_mask\"], dim=0)\n",
        "\n",
        "    return all_encodings\n"
      ]
    },
    {
      "cell_type": "code",
      "execution_count": null,
      "metadata": {
        "execution": {
          "iopub.execute_input": "2025-02-09T02:21:53.038671Z",
          "iopub.status.busy": "2025-02-09T02:21:53.038293Z",
          "iopub.status.idle": "2025-02-09T02:23:07.223271Z",
          "shell.execute_reply": "2025-02-09T02:23:07.222290Z",
          "shell.execute_reply.started": "2025-02-09T02:21:53.038642Z"
        },
        "trusted": true,
        "id": "jVwiwM23exAw",
        "outputId": "53c10b71-bf29-4712-c0d1-7ecf7ff24ee6"
      },
      "outputs": [
        {
          "name": "stdout",
          "output_type": "stream",
          "text": [
            "Train Input IDs Shape: torch.Size([231000, 128])\n",
            "Test Input IDs Shape: torch.Size([99000, 128])\n"
          ]
        }
      ],
      "source": [
        "# Apply batched tokenization\n",
        "train_texts_list  = train_texts.dropna().tolist()\n",
        "test_texts_list = test_texts.dropna().tolist()\n",
        "encoded_train = batch_tokenize(train_texts_list, batch_size=1000)\n",
        "encoded_test = batch_tokenize(test_texts_list, batch_size=1000)\n",
        "print(f\"Train Input IDs Shape: {encoded_train['input_ids'].shape}\")\n",
        "print(f\"Test Input IDs Shape: {encoded_test['input_ids'].shape}\")"
      ]
    },
    {
      "cell_type": "code",
      "execution_count": null,
      "metadata": {
        "execution": {
          "iopub.execute_input": "2025-02-09T02:33:17.395968Z",
          "iopub.status.busy": "2025-02-09T02:33:17.395631Z",
          "iopub.status.idle": "2025-02-09T02:33:17.482602Z",
          "shell.execute_reply": "2025-02-09T02:33:17.481884Z",
          "shell.execute_reply.started": "2025-02-09T02:33:17.395939Z"
        },
        "trusted": true,
        "id": "uQx7mZMdexAx"
      },
      "outputs": [],
      "source": []
    },
    {
      "cell_type": "code",
      "execution_count": null,
      "metadata": {
        "execution": {
          "iopub.execute_input": "2025-02-09T02:24:40.397762Z",
          "iopub.status.busy": "2025-02-09T02:24:40.397420Z",
          "iopub.status.idle": "2025-02-09T02:24:40.406696Z",
          "shell.execute_reply": "2025-02-09T02:24:40.405532Z",
          "shell.execute_reply.started": "2025-02-09T02:24:40.397734Z"
        },
        "trusted": true,
        "id": "3RsVjDyEexAx",
        "outputId": "b98366ec-db48-49ac-f7c9-ccf0e0df81fb"
      },
      "outputs": [
        {
          "data": {
            "text/plain": [
              "'[CLS] قرص مضغوط ممتاز معظم الناس يعرفون عن لكن من المسلم به انني كنت على دراية به قبل ذلك عبر مجموعات يورو التي تضمنت ضربته انا اماديوس بالنسبة لاوليك الذين ليسوا على دراية بموسيقاه فان الاغاني باللغة النمساوية اي الالمانية القياسية مع بعض الاغاني التي تحتوي على صوت وغيرها من نفس الفترة لهم فقط لاعطايك فكرة عن تنوعه بعد قولي هذا فالكو هو فالكو وبيعه باختصار بالمقارنة مع الخرين غير عادل استمع الى اللدغات الصوتية لاغانيه وستحصل على فكرة عن مدى موهبته [SEP] [PAD] [PAD] [PAD] [PAD] [PAD] [PAD] [PAD] [PAD] [PAD] [PAD] [PAD] [PAD] [PAD] [PAD] [PAD] [PAD] [PAD] [PAD] [PAD] [PAD] [PAD] [PAD] [PAD] [PAD] [PAD]'"
            ]
          },
          "execution_count": 32,
          "metadata": {},
          "output_type": "execute_result"
        }
      ],
      "source": [
        "tokens = encoded_train['input_ids'][1]\n",
        "tokenizer.decode(tokens)"
      ]
    },
    {
      "cell_type": "code",
      "execution_count": null,
      "metadata": {
        "execution": {
          "iopub.execute_input": "2025-02-09T02:25:02.260921Z",
          "iopub.status.busy": "2025-02-09T02:25:02.260605Z",
          "iopub.status.idle": "2025-02-09T02:25:02.266533Z",
          "shell.execute_reply": "2025-02-09T02:25:02.265764Z",
          "shell.execute_reply.started": "2025-02-09T02:25:02.260896Z"
        },
        "trusted": true,
        "id": "MGp6YcbkexAy",
        "outputId": "81d6aa2c-6856-4a9d-8b8e-31bd17a93a77"
      },
      "outputs": [
        {
          "data": {
            "text/plain": [
              "'[CLS] فيلم رايع ساشتري هذا الفيلم ومشاهدته مرارا وتكرارا مرارا وتكرارا لانني لن اتعب منه ابدا [SEP] [PAD] [PAD] [PAD] [PAD] [PAD] [PAD] [PAD] [PAD] [PAD] [PAD] [PAD] [PAD] [PAD] [PAD] [PAD] [PAD] [PAD] [PAD] [PAD] [PAD] [PAD] [PAD] [PAD] [PAD] [PAD] [PAD] [PAD] [PAD] [PAD] [PAD] [PAD] [PAD] [PAD] [PAD] [PAD] [PAD] [PAD] [PAD] [PAD] [PAD] [PAD] [PAD] [PAD] [PAD] [PAD] [PAD] [PAD] [PAD] [PAD] [PAD] [PAD] [PAD] [PAD] [PAD] [PAD] [PAD] [PAD] [PAD] [PAD] [PAD] [PAD] [PAD] [PAD] [PAD] [PAD] [PAD] [PAD] [PAD] [PAD] [PAD] [PAD] [PAD] [PAD] [PAD] [PAD] [PAD] [PAD] [PAD] [PAD] [PAD] [PAD] [PAD] [PAD] [PAD] [PAD] [PAD] [PAD] [PAD] [PAD] [PAD] [PAD] [PAD] [PAD] [PAD] [PAD] [PAD] [PAD] [PAD] [PAD] [PAD] [PAD] [PAD] [PAD] [PAD] [PAD]'"
            ]
          },
          "execution_count": 33,
          "metadata": {},
          "output_type": "execute_result"
        }
      ],
      "source": [
        "tokens = encoded_test['input_ids'][1]\n",
        "tokenizer.decode(tokens)"
      ]
    },
    {
      "cell_type": "code",
      "execution_count": null,
      "metadata": {
        "execution": {
          "iopub.execute_input": "2025-02-09T02:34:00.002141Z",
          "iopub.status.busy": "2025-02-09T02:34:00.001854Z",
          "iopub.status.idle": "2025-02-09T02:34:11.720054Z",
          "shell.execute_reply": "2025-02-09T02:34:11.719165Z",
          "shell.execute_reply.started": "2025-02-09T02:34:00.002119Z"
        },
        "trusted": true,
        "id": "Q7GJujCGexAy",
        "outputId": "3adc84bc-f6fd-4862-c704-e850a75f2caa"
      },
      "outputs": [
        {
          "name": "stdout",
          "output_type": "stream",
          "text": [
            "Text: قرص مضغوط ممتاز معظم الناس يعرفون  عن     لكن من المسلم به أنني كنت على دراية به قبل ذلك عبر مجموعات يورو التي تضمنت ضربته   أنا أماديوس بالنسبة لأولئك الذين ليسوا على دراية بموسيقاه  فإن الأغاني باللغة النمساوية أي الألمانية القياسية مع بعض الأغاني التي تحتوي على صوت   وغيرها من نفس الفترة  لهم فقط لإعطائك فكرة عن تنوعه بعد قولي هذا  فالكو هو فالكو وبيعه باختصار بالمقارنة مع الخرين غير عادل استمع إلى اللدغات الصوتية لأغانيه وستحصل على فكرة عن مدى موهبته\n",
            "Number of tokens: 128\n",
            "Token ID: 2, Subword: [CLS]\n",
            "Token ID: 18695, Subword: قرص\n",
            "Token ID: 3214, Subword: مض\n",
            "Token ID: 8194, Subword: ##غوط\n",
            "Token ID: 11774, Subword: ممتاز\n",
            "Token ID: 4537, Subword: معظم\n",
            "Token ID: 2538, Subword: الناس\n",
            "Token ID: 13649, Subword: يعرفون\n",
            "Token ID: 1760, Subword: عن\n",
            "Token ID: 2356, Subword: لكن\n",
            "Token ID: 1726, Subword: من\n",
            "Token ID: 5111, Subword: المسلم\n",
            "Token ID: 2037, Subword: به\n",
            "Token ID: 7066, Subword: انني\n",
            "Token ID: 2779, Subword: كنت\n",
            "Token ID: 1747, Subword: على\n",
            "Token ID: 27446, Subword: دراية\n",
            "Token ID: 2037, Subword: به\n",
            "Token ID: 2086, Subword: قبل\n",
            "Token ID: 1981, Subword: ذلك\n",
            "Token ID: 2471, Subword: عبر\n",
            "Token ID: 9887, Subword: مجموعات\n",
            "Token ID: 8813, Subword: يورو\n",
            "Token ID: 1833, Subword: التي\n",
            "Token ID: 20379, Subword: تضمنت\n",
            "Token ID: 24787, Subword: ضربت\n",
            "Token ID: 1023, Subword: ##ه\n",
            "Token ID: 2723, Subword: انا\n",
            "Token ID: 2460, Subword: اما\n",
            "Token ID: 2581, Subword: ##ديو\n",
            "Token ID: 1005, Subword: ##س\n",
            "Token ID: 3983, Subword: بالنسبة\n",
            "Token ID: 6747, Subword: لاول\n",
            "Token ID: 2164, Subword: ##يك\n",
            "Token ID: 2481, Subword: الذين\n",
            "Token ID: 17676, Subword: ليسوا\n",
            "Token ID: 1747, Subword: على\n",
            "Token ID: 27446, Subword: دراية\n",
            "Token ID: 1978, Subword: بم\n",
            "Token ID: 4348, Subword: ##وسي\n",
            "Token ID: 2142, Subword: ##قا\n",
            "Token ID: 1023, Subword: ##ه\n",
            "Token ID: 2098, Subword: فان\n",
            "Token ID: 8065, Subword: الاغاني\n",
            "Token ID: 7560, Subword: باللغة\n",
            "Token ID: 11218, Subword: النمسا\n",
            "Token ID: 1993, Subword: ##وية\n",
            "Token ID: 1835, Subword: اي\n",
            "Token ID: 6586, Subword: الالمانية\n",
            "Token ID: 20927, Subword: القياسية\n",
            "Token ID: 1776, Subword: مع\n",
            "Token ID: 2165, Subword: بعض\n",
            "Token ID: 8065, Subword: الاغاني\n",
            "Token ID: 1833, Subword: التي\n",
            "Token ID: 5458, Subword: تحتوي\n",
            "Token ID: 1747, Subword: على\n",
            "Token ID: 3676, Subword: صوت\n",
            "Token ID: 4267, Subword: وغيرها\n",
            "Token ID: 1726, Subword: من\n",
            "Token ID: 2346, Subword: نفس\n",
            "Token ID: 4304, Subword: الفترة\n",
            "Token ID: 2819, Subword: لهم\n",
            "Token ID: 2453, Subword: فقط\n",
            "Token ID: 3304, Subword: لاع\n",
            "Token ID: 3731, Subword: ##طا\n",
            "Token ID: 2164, Subword: ##يك\n",
            "Token ID: 6078, Subword: فكرة\n",
            "Token ID: 1760, Subword: عن\n",
            "Token ID: 18169, Subword: تنوع\n",
            "Token ID: 1023, Subword: ##ه\n",
            "Token ID: 1905, Subword: بعد\n",
            "Token ID: 29789, Subword: قولي\n",
            "Token ID: 1867, Subword: هذا\n",
            "Token ID: 2848, Subword: فال\n",
            "Token ID: 2673, Subword: ##كو\n",
            "Token ID: 1948, Subword: هو\n",
            "Token ID: 2848, Subword: فال\n",
            "Token ID: 2673, Subword: ##كو\n",
            "Token ID: 17106, Subword: وبيع\n",
            "Token ID: 1023, Subword: ##ه\n",
            "Token ID: 23382, Subword: باختصار\n",
            "Token ID: 25011, Subword: بالمقارنة\n",
            "Token ID: 1776, Subword: مع\n",
            "Token ID: 22141, Subword: الخر\n",
            "Token ID: 1724, Subword: ##ين\n",
            "Token ID: 2042, Subword: غير\n",
            "Token ID: 6519, Subword: عادل\n",
            "Token ID: 25001, Subword: استمع\n",
            "Token ID: 1774, Subword: الى\n",
            "Token ID: 20788, Subword: اللد\n",
            "Token ID: 4888, Subword: ##غات\n",
            "Token ID: 8591, Subword: الصوتية\n",
            "Token ID: 7955, Subword: لاغ\n",
            "Token ID: 7016, Subword: ##انيه\n",
            "Token ID: 4657, Subword: وست\n",
            "Token ID: 11062, Subword: ##حصل\n",
            "Token ID: 1747, Subword: على\n",
            "Token ID: 6078, Subword: فكرة\n",
            "Token ID: 1760, Subword: عن\n",
            "Token ID: 4337, Subword: مدى\n",
            "Token ID: 18526, Subword: موه\n",
            "Token ID: 10109, Subword: ##بته\n",
            "Token ID: 3, Subword: [SEP]\n",
            "Token ID: 0, Subword: [PAD]\n",
            "Token ID: 0, Subword: [PAD]\n",
            "Token ID: 0, Subword: [PAD]\n",
            "Token ID: 0, Subword: [PAD]\n",
            "Token ID: 0, Subword: [PAD]\n",
            "Token ID: 0, Subword: [PAD]\n",
            "Token ID: 0, Subword: [PAD]\n",
            "Token ID: 0, Subword: [PAD]\n",
            "Token ID: 0, Subword: [PAD]\n",
            "Token ID: 0, Subword: [PAD]\n",
            "Token ID: 0, Subword: [PAD]\n",
            "Token ID: 0, Subword: [PAD]\n",
            "Token ID: 0, Subword: [PAD]\n",
            "Token ID: 0, Subword: [PAD]\n",
            "Token ID: 0, Subword: [PAD]\n",
            "Token ID: 0, Subword: [PAD]\n",
            "Token ID: 0, Subword: [PAD]\n",
            "Token ID: 0, Subword: [PAD]\n",
            "Token ID: 0, Subword: [PAD]\n",
            "Token ID: 0, Subword: [PAD]\n",
            "Token ID: 0, Subword: [PAD]\n",
            "Token ID: 0, Subword: [PAD]\n",
            "Token ID: 0, Subword: [PAD]\n",
            "Token ID: 0, Subword: [PAD]\n",
            "Token ID: 0, Subword: [PAD]\n"
          ]
        }
      ],
      "source": [
        "sample_index = 1\n",
        "\n",
        "sample_text = train_texts_list[sample_index]\n",
        "\n",
        "sample_token_ids = encoded_train[\"input_ids\"][sample_index]\n",
        "\n",
        "print(f'Text: {sample_text}')\n",
        "print(f'Number of tokens: {len(sample_token_ids)}')\n",
        "\n",
        "for token in sample_token_ids:\n",
        "    print(f'Token ID: {token.item()}, Subword: {tokenizer.decode([token.item()])}')\n"
      ]
    },
    {
      "cell_type": "code",
      "execution_count": null,
      "metadata": {
        "trusted": true,
        "id": "l-c4PktUexAy"
      },
      "outputs": [],
      "source": []
    },
    {
      "cell_type": "markdown",
      "metadata": {
        "id": "YY4nUA6texAz"
      },
      "source": [
        "# get the embedding\n"
      ]
    },
    {
      "cell_type": "markdown",
      "metadata": {
        "id": "igOBofgaexAz"
      },
      "source": [
        "`bert_model.eval()`>>disables dropout,Batch Normalization..."
      ]
    },
    {
      "cell_type": "code",
      "execution_count": null,
      "metadata": {
        "execution": {
          "iopub.execute_input": "2025-02-09T02:38:39.232908Z",
          "iopub.status.busy": "2025-02-09T02:38:39.232591Z",
          "iopub.status.idle": "2025-02-09T02:38:43.685734Z",
          "shell.execute_reply": "2025-02-09T02:38:43.684959Z",
          "shell.execute_reply.started": "2025-02-09T02:38:39.232874Z"
        },
        "trusted": true,
        "id": "poBqw2G2exAz",
        "outputId": "60b80349-5cda-45f9-af0a-883161071f86",
        "colab": {
          "referenced_widgets": [
            "ae9a562727b64d7f9927d02c4e34a9bd"
          ]
        }
      },
      "outputs": [
        {
          "data": {
            "application/vnd.jupyter.widget-view+json": {
              "model_id": "ae9a562727b64d7f9927d02c4e34a9bd",
              "version_major": 2,
              "version_minor": 0
            },
            "text/plain": [
              "model.safetensors:   0%|          | 0.00/445M [00:00<?, ?B/s]"
            ]
          },
          "metadata": {},
          "output_type": "display_data"
        },
        {
          "data": {
            "text/plain": [
              "BertModel(\n",
              "  (embeddings): BertEmbeddings(\n",
              "    (word_embeddings): Embedding(32000, 768, padding_idx=0)\n",
              "    (position_embeddings): Embedding(512, 768)\n",
              "    (token_type_embeddings): Embedding(2, 768)\n",
              "    (LayerNorm): LayerNorm((768,), eps=1e-12, elementwise_affine=True)\n",
              "    (dropout): Dropout(p=0.1, inplace=False)\n",
              "  )\n",
              "  (encoder): BertEncoder(\n",
              "    (layer): ModuleList(\n",
              "      (0-11): 12 x BertLayer(\n",
              "        (attention): BertAttention(\n",
              "          (self): BertSdpaSelfAttention(\n",
              "            (query): Linear(in_features=768, out_features=768, bias=True)\n",
              "            (key): Linear(in_features=768, out_features=768, bias=True)\n",
              "            (value): Linear(in_features=768, out_features=768, bias=True)\n",
              "            (dropout): Dropout(p=0.1, inplace=False)\n",
              "          )\n",
              "          (output): BertSelfOutput(\n",
              "            (dense): Linear(in_features=768, out_features=768, bias=True)\n",
              "            (LayerNorm): LayerNorm((768,), eps=1e-12, elementwise_affine=True)\n",
              "            (dropout): Dropout(p=0.1, inplace=False)\n",
              "          )\n",
              "        )\n",
              "        (intermediate): BertIntermediate(\n",
              "          (dense): Linear(in_features=768, out_features=3072, bias=True)\n",
              "          (intermediate_act_fn): GELUActivation()\n",
              "        )\n",
              "        (output): BertOutput(\n",
              "          (dense): Linear(in_features=3072, out_features=768, bias=True)\n",
              "          (LayerNorm): LayerNorm((768,), eps=1e-12, elementwise_affine=True)\n",
              "          (dropout): Dropout(p=0.1, inplace=False)\n",
              "        )\n",
              "      )\n",
              "    )\n",
              "  )\n",
              "  (pooler): BertPooler(\n",
              "    (dense): Linear(in_features=768, out_features=768, bias=True)\n",
              "    (activation): Tanh()\n",
              "  )\n",
              ")"
            ]
          },
          "execution_count": 47,
          "metadata": {},
          "output_type": "execute_result"
        }
      ],
      "source": [
        "bert_model = AutoModel.from_pretrained(\"asafaya/bert-base-arabic\").to(\"cuda\")\n",
        "bert_model.eval()  # Set model to evaluation mode\n",
        "\n",
        "# Function to generate BERT CLS embeddings\n",
        "def get_bert_embeddings(encoded_inputs, model, batch_size=32):\n",
        "    \"\"\"Extract BERT embeddings from pre-tokenized inputs.\"\"\"\n",
        "    dataset = torch.utils.data.TensorDataset(encoded_inputs[\"input_ids\"], encoded_inputs[\"attention_mask\"])\n",
        "    dataloader = torch.utils.data.DataLoader(dataset, batch_size=batch_size)\n",
        "\n",
        "    all_cls_embeddings = []\n",
        "    with torch.no_grad():\n",
        "        for batch in dataloader:\n",
        "            batch_inputs = {\"input_ids\": batch[0].to(\"cuda\"), \"attention_mask\": batch[1].to(\"cuda\")}\n",
        "            outputs = model(**batch_inputs)\n",
        "            cls_embeddings = outputs.last_hidden_state[:, 0, :].cpu()  # Extract CLS token embeddings\n",
        "            all_cls_embeddings.append(cls_embeddings)\n",
        "\n",
        "    return torch.cat(all_cls_embeddings, dim=0).numpy()  # Convert to NumPy\n"
      ]
    },
    {
      "cell_type": "code",
      "execution_count": null,
      "metadata": {
        "execution": {
          "iopub.execute_input": "2025-02-09T02:38:48.069264Z",
          "iopub.status.busy": "2025-02-09T02:38:48.068866Z",
          "iopub.status.idle": "2025-02-09T03:02:59.743479Z",
          "shell.execute_reply": "2025-02-09T03:02:59.742636Z",
          "shell.execute_reply.started": "2025-02-09T02:38:48.069226Z"
        },
        "trusted": true,
        "id": "kYMBNrbIexAz"
      },
      "outputs": [],
      "source": [
        "# Generate embeddings for train and test datasets\n",
        "train_embeddings = get_bert_embeddings(encoded_train, bert_model)\n",
        "np.save(\"/kaggle/working/train_embeddings.npy\", train_embeddings)"
      ]
    },
    {
      "cell_type": "code",
      "execution_count": null,
      "metadata": {
        "execution": {
          "iopub.execute_input": "2025-02-09T03:15:04.113852Z",
          "iopub.status.busy": "2025-02-09T03:15:04.113557Z",
          "iopub.status.idle": "2025-02-09T03:15:04.118621Z",
          "shell.execute_reply": "2025-02-09T03:15:04.117858Z",
          "shell.execute_reply.started": "2025-02-09T03:15:04.113829Z"
        },
        "trusted": true,
        "id": "TxC-W1jnexA0",
        "outputId": "5375a681-ac94-4fd4-ceb9-bc87de18da3c"
      },
      "outputs": [
        {
          "name": "stdout",
          "output_type": "stream",
          "text": [
            "Final train CLS Embeddings Shape: (231000, 768)\n"
          ]
        }
      ],
      "source": [
        "print(f\"Final train CLS Embeddings Shape: {train_embeddings.shape}\")"
      ]
    },
    {
      "cell_type": "code",
      "execution_count": null,
      "metadata": {
        "execution": {
          "iopub.execute_input": "2025-02-09T03:04:08.090392Z",
          "iopub.status.busy": "2025-02-09T03:04:08.090008Z",
          "iopub.status.idle": "2025-02-09T03:14:33.833032Z",
          "shell.execute_reply": "2025-02-09T03:14:33.832219Z",
          "shell.execute_reply.started": "2025-02-09T03:04:08.090362Z"
        },
        "trusted": true,
        "id": "gWlu585UexA0"
      },
      "outputs": [],
      "source": [
        "test_embeddings = get_bert_embeddings(encoded_test, bert_model)\n",
        "np.save(\"/kaggle/working/test_embeddings.npy\", test_embeddings)\n"
      ]
    },
    {
      "cell_type": "code",
      "execution_count": null,
      "metadata": {
        "execution": {
          "iopub.execute_input": "2025-02-09T03:15:06.288395Z",
          "iopub.status.busy": "2025-02-09T03:15:06.288017Z",
          "iopub.status.idle": "2025-02-09T03:15:06.293315Z",
          "shell.execute_reply": "2025-02-09T03:15:06.292521Z",
          "shell.execute_reply.started": "2025-02-09T03:15:06.288343Z"
        },
        "trusted": true,
        "id": "ZGyKyC9wexA0",
        "outputId": "eeefe029-e8d2-4469-cf8d-e242b7cb216c"
      },
      "outputs": [
        {
          "name": "stdout",
          "output_type": "stream",
          "text": [
            "Final test CLS Embeddings Shape: (99000, 768)\n"
          ]
        }
      ],
      "source": [
        "print(f\"Final test CLS Embeddings Shape: {test_embeddings.shape}\")"
      ]
    },
    {
      "cell_type": "markdown",
      "metadata": {
        "id": "UnjdPPqAexA0"
      },
      "source": [
        "# adding classification layer"
      ]
    },
    {
      "cell_type": "markdown",
      "metadata": {
        "id": "4oF4kMOHexA0"
      },
      "source": [
        "## Reshape embeddings to fit RNN/LSTM input shape\n",
        "**(batch_size, time_steps=1, features=768)**"
      ]
    },
    {
      "cell_type": "code",
      "execution_count": null,
      "metadata": {
        "execution": {
          "iopub.execute_input": "2025-02-09T03:16:13.313143Z",
          "iopub.status.busy": "2025-02-09T03:16:13.312804Z",
          "iopub.status.idle": "2025-02-09T03:16:13.319652Z",
          "shell.execute_reply": "2025-02-09T03:16:13.318555Z",
          "shell.execute_reply.started": "2025-02-09T03:16:13.313111Z"
        },
        "trusted": true,
        "id": "Cz839CkZexA1",
        "outputId": "d1636c9f-e35a-458c-cb03-b21d439e9650"
      },
      "outputs": [
        {
          "name": "stdout",
          "output_type": "stream",
          "text": [
            "Train Embeddings Shape: (231000, 1, 768)\n",
            "Test Embeddings Shape: (99000, 1, 768)\n"
          ]
        }
      ],
      "source": [
        "train_embeddings_rnn = np.expand_dims(train_embeddings, axis=1)  # Shape: (231000, 1, 768)\n",
        "test_embeddings_rnn = np.expand_dims(test_embeddings, axis=1)    # Shape: (99000, 1, 768)\n",
        "\n",
        "#n_labels = train_labels.to_numpy()\n",
        "test_labels = test_labels.to_numpy()\n",
        "\n",
        "print(f\"Train Embeddings Shape: {train_embeddings_rnn.shape}\")  # (231000, 1, 768)\n",
        "print(f\"Test Embeddings Shape: {test_embeddings_ Convert labels to NumPy arrays (if not already)\n",
        "trairnn.shape}\")"
      ]
    },
    {
      "cell_type": "code",
      "execution_count": null,
      "metadata": {
        "execution": {
          "iopub.execute_input": "2025-02-09T03:47:06.092665Z",
          "iopub.status.busy": "2025-02-09T03:47:06.092318Z",
          "iopub.status.idle": "2025-02-09T03:47:06.096908Z",
          "shell.execute_reply": "2025-02-09T03:47:06.095967Z",
          "shell.execute_reply.started": "2025-02-09T03:47:06.092630Z"
        },
        "trusted": true,
        "id": "IQTxvETQexA2"
      },
      "outputs": [],
      "source": [
        "import tensorflow as tf\n",
        "from tensorflow.keras.models import Sequential\n",
        "from tensorflow.keras.layers import SimpleRNN, Dense, Dropout, LSTM, Bidirectional, Input\n",
        "from tensorflow.keras.callbacks import ModelCheckpoint"
      ]
    },
    {
      "cell_type": "markdown",
      "metadata": {
        "id": "HmS1BnjUexA2"
      },
      "source": [
        "## RNN\n",
        "------------------------------"
      ]
    },
    {
      "cell_type": "code",
      "execution_count": null,
      "metadata": {
        "execution": {
          "iopub.execute_input": "2025-02-09T03:23:40.939833Z",
          "iopub.status.busy": "2025-02-09T03:23:40.939430Z",
          "iopub.status.idle": "2025-02-09T03:23:40.992495Z",
          "shell.execute_reply": "2025-02-09T03:23:40.991805Z",
          "shell.execute_reply.started": "2025-02-09T03:23:40.939808Z"
        },
        "trusted": true,
        "id": "lG-0Aen8exA3"
      },
      "outputs": [],
      "source": [
        "# Define RNN model\n",
        "rnn_model = Sequential([\n",
        "    SimpleRNN(128, activation='relu', input_shape=(1, 768)),\n",
        "    Dropout(0.5),\n",
        "    Dense(64, activation='relu'),\n",
        "    Dropout(0.5),\n",
        "    Dense(1, activation='sigmoid')  # Binary classification\n",
        "])\n",
        "\n",
        "# Compile model\n",
        "rnn_model.compile(optimizer='adam', loss='binary_crossentropy', metrics=['accuracy'])\n"
      ]
    },
    {
      "cell_type": "code",
      "execution_count": null,
      "metadata": {
        "execution": {
          "iopub.execute_input": "2025-02-09T03:23:42.469712Z",
          "iopub.status.busy": "2025-02-09T03:23:42.469402Z",
          "iopub.status.idle": "2025-02-09T03:23:42.485776Z",
          "shell.execute_reply": "2025-02-09T03:23:42.484774Z",
          "shell.execute_reply.started": "2025-02-09T03:23:42.469685Z"
        },
        "trusted": true,
        "id": "Gq4gM31fexA3",
        "outputId": "b9f8f240-c497-47e7-a7e6-41c38fed9e9f"
      },
      "outputs": [
        {
          "data": {
            "text/html": [
              "<pre style=\"white-space:pre;overflow-x:auto;line-height:normal;font-family:Menlo,'DejaVu Sans Mono',consolas,'Courier New',monospace\"><span style=\"font-weight: bold\">Model: \"sequential_1\"</span>\n",
              "</pre>\n"
            ],
            "text/plain": [
              "\u001b[1mModel: \"sequential_1\"\u001b[0m\n"
            ]
          },
          "metadata": {},
          "output_type": "display_data"
        },
        {
          "data": {
            "text/html": [
              "<pre style=\"white-space:pre;overflow-x:auto;line-height:normal;font-family:Menlo,'DejaVu Sans Mono',consolas,'Courier New',monospace\">┏━━━━━━━━━━━━━━━━━━━━━━━━━━━━━━━━━━━━━━┳━━━━━━━━━━━━━━━━━━━━━━━━━━━━━┳━━━━━━━━━━━━━━━━━┓\n",
              "┃<span style=\"font-weight: bold\"> Layer (type)                         </span>┃<span style=\"font-weight: bold\"> Output Shape                </span>┃<span style=\"font-weight: bold\">         Param # </span>┃\n",
              "┡━━━━━━━━━━━━━━━━━━━━━━━━━━━━━━━━━━━━━━╇━━━━━━━━━━━━━━━━━━━━━━━━━━━━━╇━━━━━━━━━━━━━━━━━┩\n",
              "│ simple_rnn_1 (<span style=\"color: #0087ff; text-decoration-color: #0087ff\">SimpleRNN</span>)             │ (<span style=\"color: #00d7ff; text-decoration-color: #00d7ff\">None</span>, <span style=\"color: #00af00; text-decoration-color: #00af00\">128</span>)                 │         <span style=\"color: #00af00; text-decoration-color: #00af00\">114,816</span> │\n",
              "├──────────────────────────────────────┼─────────────────────────────┼─────────────────┤\n",
              "│ dropout_2 (<span style=\"color: #0087ff; text-decoration-color: #0087ff\">Dropout</span>)                  │ (<span style=\"color: #00d7ff; text-decoration-color: #00d7ff\">None</span>, <span style=\"color: #00af00; text-decoration-color: #00af00\">128</span>)                 │               <span style=\"color: #00af00; text-decoration-color: #00af00\">0</span> │\n",
              "├──────────────────────────────────────┼─────────────────────────────┼─────────────────┤\n",
              "│ dense_2 (<span style=\"color: #0087ff; text-decoration-color: #0087ff\">Dense</span>)                      │ (<span style=\"color: #00d7ff; text-decoration-color: #00d7ff\">None</span>, <span style=\"color: #00af00; text-decoration-color: #00af00\">64</span>)                  │           <span style=\"color: #00af00; text-decoration-color: #00af00\">8,256</span> │\n",
              "├──────────────────────────────────────┼─────────────────────────────┼─────────────────┤\n",
              "│ dropout_3 (<span style=\"color: #0087ff; text-decoration-color: #0087ff\">Dropout</span>)                  │ (<span style=\"color: #00d7ff; text-decoration-color: #00d7ff\">None</span>, <span style=\"color: #00af00; text-decoration-color: #00af00\">64</span>)                  │               <span style=\"color: #00af00; text-decoration-color: #00af00\">0</span> │\n",
              "├──────────────────────────────────────┼─────────────────────────────┼─────────────────┤\n",
              "│ dense_3 (<span style=\"color: #0087ff; text-decoration-color: #0087ff\">Dense</span>)                      │ (<span style=\"color: #00d7ff; text-decoration-color: #00d7ff\">None</span>, <span style=\"color: #00af00; text-decoration-color: #00af00\">1</span>)                   │              <span style=\"color: #00af00; text-decoration-color: #00af00\">65</span> │\n",
              "└──────────────────────────────────────┴─────────────────────────────┴─────────────────┘\n",
              "</pre>\n"
            ],
            "text/plain": [
              "┏━━━━━━━━━━━━━━━━━━━━━━━━━━━━━━━━━━━━━━┳━━━━━━━━━━━━━━━━━━━━━━━━━━━━━┳━━━━━━━━━━━━━━━━━┓\n",
              "┃\u001b[1m \u001b[0m\u001b[1mLayer (type)                        \u001b[0m\u001b[1m \u001b[0m┃\u001b[1m \u001b[0m\u001b[1mOutput Shape               \u001b[0m\u001b[1m \u001b[0m┃\u001b[1m \u001b[0m\u001b[1m        Param #\u001b[0m\u001b[1m \u001b[0m┃\n",
              "┡━━━━━━━━━━━━━━━━━━━━━━━━━━━━━━━━━━━━━━╇━━━━━━━━━━━━━━━━━━━━━━━━━━━━━╇━━━━━━━━━━━━━━━━━┩\n",
              "│ simple_rnn_1 (\u001b[38;5;33mSimpleRNN\u001b[0m)             │ (\u001b[38;5;45mNone\u001b[0m, \u001b[38;5;34m128\u001b[0m)                 │         \u001b[38;5;34m114,816\u001b[0m │\n",
              "├──────────────────────────────────────┼─────────────────────────────┼─────────────────┤\n",
              "│ dropout_2 (\u001b[38;5;33mDropout\u001b[0m)                  │ (\u001b[38;5;45mNone\u001b[0m, \u001b[38;5;34m128\u001b[0m)                 │               \u001b[38;5;34m0\u001b[0m │\n",
              "├──────────────────────────────────────┼─────────────────────────────┼─────────────────┤\n",
              "│ dense_2 (\u001b[38;5;33mDense\u001b[0m)                      │ (\u001b[38;5;45mNone\u001b[0m, \u001b[38;5;34m64\u001b[0m)                  │           \u001b[38;5;34m8,256\u001b[0m │\n",
              "├──────────────────────────────────────┼─────────────────────────────┼─────────────────┤\n",
              "│ dropout_3 (\u001b[38;5;33mDropout\u001b[0m)                  │ (\u001b[38;5;45mNone\u001b[0m, \u001b[38;5;34m64\u001b[0m)                  │               \u001b[38;5;34m0\u001b[0m │\n",
              "├──────────────────────────────────────┼─────────────────────────────┼─────────────────┤\n",
              "│ dense_3 (\u001b[38;5;33mDense\u001b[0m)                      │ (\u001b[38;5;45mNone\u001b[0m, \u001b[38;5;34m1\u001b[0m)                   │              \u001b[38;5;34m65\u001b[0m │\n",
              "└──────────────────────────────────────┴─────────────────────────────┴─────────────────┘\n"
            ]
          },
          "metadata": {},
          "output_type": "display_data"
        },
        {
          "data": {
            "text/html": [
              "<pre style=\"white-space:pre;overflow-x:auto;line-height:normal;font-family:Menlo,'DejaVu Sans Mono',consolas,'Courier New',monospace\"><span style=\"font-weight: bold\"> Total params: </span><span style=\"color: #00af00; text-decoration-color: #00af00\">123,137</span> (481.00 KB)\n",
              "</pre>\n"
            ],
            "text/plain": [
              "\u001b[1m Total params: \u001b[0m\u001b[38;5;34m123,137\u001b[0m (481.00 KB)\n"
            ]
          },
          "metadata": {},
          "output_type": "display_data"
        },
        {
          "data": {
            "text/html": [
              "<pre style=\"white-space:pre;overflow-x:auto;line-height:normal;font-family:Menlo,'DejaVu Sans Mono',consolas,'Courier New',monospace\"><span style=\"font-weight: bold\"> Trainable params: </span><span style=\"color: #00af00; text-decoration-color: #00af00\">123,137</span> (481.00 KB)\n",
              "</pre>\n"
            ],
            "text/plain": [
              "\u001b[1m Trainable params: \u001b[0m\u001b[38;5;34m123,137\u001b[0m (481.00 KB)\n"
            ]
          },
          "metadata": {},
          "output_type": "display_data"
        },
        {
          "data": {
            "text/html": [
              "<pre style=\"white-space:pre;overflow-x:auto;line-height:normal;font-family:Menlo,'DejaVu Sans Mono',consolas,'Courier New',monospace\"><span style=\"font-weight: bold\"> Non-trainable params: </span><span style=\"color: #00af00; text-decoration-color: #00af00\">0</span> (0.00 B)\n",
              "</pre>\n"
            ],
            "text/plain": [
              "\u001b[1m Non-trainable params: \u001b[0m\u001b[38;5;34m0\u001b[0m (0.00 B)\n"
            ]
          },
          "metadata": {},
          "output_type": "display_data"
        }
      ],
      "source": [
        "rnn_model.summary()"
      ]
    },
    {
      "cell_type": "code",
      "execution_count": null,
      "metadata": {
        "execution": {
          "iopub.execute_input": "2025-02-09T03:29:10.102183Z",
          "iopub.status.busy": "2025-02-09T03:29:10.101824Z",
          "iopub.status.idle": "2025-02-09T03:29:10.106220Z",
          "shell.execute_reply": "2025-02-09T03:29:10.105271Z",
          "shell.execute_reply.started": "2025-02-09T03:29:10.102160Z"
        },
        "trusted": true,
        "id": "UHSVsbabexA3"
      },
      "outputs": [],
      "source": [
        "checkpoint_filepath = \"/kaggle/working/rnn/weights.{epoch:02d}.keras\"\n",
        "modelcheckpoint = ModelCheckpoint(\n",
        "    filepath=checkpoint_filepath,\n",
        "    save_weights_only=False,\n",
        "    monitor='val_loss',\n",
        "    mode='min',#on metric decrease\n",
        "    save_best_only=True\n",
        ")"
      ]
    },
    {
      "cell_type": "code",
      "execution_count": null,
      "metadata": {
        "execution": {
          "iopub.execute_input": "2025-02-09T03:29:10.894358Z",
          "iopub.status.busy": "2025-02-09T03:29:10.894049Z",
          "iopub.status.idle": "2025-02-09T03:31:45.306500Z",
          "shell.execute_reply": "2025-02-09T03:31:45.305676Z",
          "shell.execute_reply.started": "2025-02-09T03:29:10.894329Z"
        },
        "trusted": true,
        "id": "RJ4NV5FeexA3",
        "outputId": "1edbee96-91da-48db-edc0-9289dc27ed84"
      },
      "outputs": [
        {
          "name": "stdout",
          "output_type": "stream",
          "text": [
            "Epoch 1/10\n",
            "\u001b[1m7219/7219\u001b[0m \u001b[32m━━━━━━━━━━━━━━━━━━━━\u001b[0m\u001b[37m\u001b[0m \u001b[1m21s\u001b[0m 2ms/step - accuracy: 0.7731 - loss: 0.4775 - val_accuracy: 0.8268 - val_loss: 0.3948\n",
            "Epoch 2/10\n",
            "\u001b[1m7219/7219\u001b[0m \u001b[32m━━━━━━━━━━━━━━━━━━━━\u001b[0m\u001b[37m\u001b[0m \u001b[1m14s\u001b[0m 2ms/step - accuracy: 0.8169 - loss: 0.4103 - val_accuracy: 0.8313 - val_loss: 0.3846\n",
            "Epoch 3/10\n",
            "\u001b[1m7219/7219\u001b[0m \u001b[32m━━━━━━━━━━━━━━━━━━━━\u001b[0m\u001b[37m\u001b[0m \u001b[1m14s\u001b[0m 2ms/step - accuracy: 0.8210 - loss: 0.4013 - val_accuracy: 0.8343 - val_loss: 0.3773\n",
            "Epoch 4/10\n",
            "\u001b[1m7219/7219\u001b[0m \u001b[32m━━━━━━━━━━━━━━━━━━━━\u001b[0m\u001b[37m\u001b[0m \u001b[1m14s\u001b[0m 2ms/step - accuracy: 0.8241 - loss: 0.3957 - val_accuracy: 0.8320 - val_loss: 0.3809\n",
            "Epoch 5/10\n",
            "\u001b[1m7219/7219\u001b[0m \u001b[32m━━━━━━━━━━━━━━━━━━━━\u001b[0m\u001b[37m\u001b[0m \u001b[1m14s\u001b[0m 2ms/step - accuracy: 0.8259 - loss: 0.3917 - val_accuracy: 0.8358 - val_loss: 0.3735\n",
            "Epoch 6/10\n",
            "\u001b[1m7219/7219\u001b[0m \u001b[32m━━━━━━━━━━━━━━━━━━━━\u001b[0m\u001b[37m\u001b[0m \u001b[1m14s\u001b[0m 2ms/step - accuracy: 0.8287 - loss: 0.3881 - val_accuracy: 0.8360 - val_loss: 0.3812\n",
            "Epoch 7/10\n",
            "\u001b[1m7219/7219\u001b[0m \u001b[32m━━━━━━━━━━━━━━━━━━━━\u001b[0m\u001b[37m\u001b[0m \u001b[1m14s\u001b[0m 2ms/step - accuracy: 0.8292 - loss: 0.3860 - val_accuracy: 0.8379 - val_loss: 0.3823\n",
            "Epoch 8/10\n",
            "\u001b[1m7219/7219\u001b[0m \u001b[32m━━━━━━━━━━━━━━━━━━━━\u001b[0m\u001b[37m\u001b[0m \u001b[1m14s\u001b[0m 2ms/step - accuracy: 0.8305 - loss: 0.3837 - val_accuracy: 0.8384 - val_loss: 0.3718\n",
            "Epoch 9/10\n",
            "\u001b[1m7219/7219\u001b[0m \u001b[32m━━━━━━━━━━━━━━━━━━━━\u001b[0m\u001b[37m\u001b[0m \u001b[1m14s\u001b[0m 2ms/step - accuracy: 0.8307 - loss: 0.3819 - val_accuracy: 0.8382 - val_loss: 0.3711\n",
            "Epoch 10/10\n",
            "\u001b[1m7219/7219\u001b[0m \u001b[32m━━━━━━━━━━━━━━━━━━━━\u001b[0m\u001b[37m\u001b[0m \u001b[1m14s\u001b[0m 2ms/step - accuracy: 0.8322 - loss: 0.3808 - val_accuracy: 0.8361 - val_loss: 0.3816\n",
            "\u001b[1m3094/3094\u001b[0m \u001b[32m━━━━━━━━━━━━━━━━━━━━\u001b[0m\u001b[37m\u001b[0m \u001b[1m4s\u001b[0m 1ms/step - accuracy: 0.8371 - loss: 0.3797\n",
            "RNN Test Accuracy: 83.61%\n"
          ]
        }
      ],
      "source": [
        "# Train the RNN model\n",
        "rnn_model.fit(\n",
        "    train_embeddings_rnn, train_labels,\n",
        "    epochs=10, batch_size=32,\n",
        "    validation_data=(test_embeddings_rnn, test_labels),\n",
        "    callbacks=[modelcheckpoint]\n",
        ")"
      ]
    },
    {
      "cell_type": "code",
      "execution_count": null,
      "metadata": {
        "execution": {
          "iopub.execute_input": "2025-02-09T03:32:36.948995Z",
          "iopub.status.busy": "2025-02-09T03:32:36.948675Z",
          "iopub.status.idle": "2025-02-09T03:32:41.647276Z",
          "shell.execute_reply": "2025-02-09T03:32:41.646547Z",
          "shell.execute_reply.started": "2025-02-09T03:32:36.948969Z"
        },
        "trusted": true,
        "id": "Se_M1Wc7exA3",
        "outputId": "7fd90bac-34b6-498d-99df-7a26c857af25"
      },
      "outputs": [
        {
          "name": "stdout",
          "output_type": "stream",
          "text": [
            "\u001b[1m3094/3094\u001b[0m \u001b[32m━━━━━━━━━━━━━━━━━━━━\u001b[0m\u001b[37m\u001b[0m \u001b[1m4s\u001b[0m 1ms/step - accuracy: 0.8371 - loss: 0.3797\n",
            "RNN Test Accuracy: 83.61%\n",
            "RNN Test loss: 38.16%\n"
          ]
        }
      ],
      "source": [
        "# Evaluate the RNN model\n",
        "test_loss, test_acc = rnn_model.evaluate(test_embeddings_rnn, test_labels)\n",
        "print(f\"RNN Test Accuracy: {test_acc * 100:.2f}%\")\n",
        "print(f\"RNN Test loss: {test_loss * 100:.2f}%\")"
      ]
    },
    {
      "cell_type": "markdown",
      "metadata": {
        "id": "4N9R4oHsexA4"
      },
      "source": [
        "## LSTM\n",
        "----------------------------"
      ]
    },
    {
      "cell_type": "code",
      "execution_count": null,
      "metadata": {
        "execution": {
          "iopub.execute_input": "2025-02-09T03:39:55.706919Z",
          "iopub.status.busy": "2025-02-09T03:39:55.706532Z",
          "iopub.status.idle": "2025-02-09T03:39:55.753222Z",
          "shell.execute_reply": "2025-02-09T03:39:55.752485Z",
          "shell.execute_reply.started": "2025-02-09T03:39:55.706887Z"
        },
        "trusted": true,
        "id": "jbUVraL6exA4"
      },
      "outputs": [],
      "source": [
        "# Define LSTM model\n",
        "lstm_model = Sequential([\n",
        "    LSTM(128, activation='relu', input_shape=(1, 768)),\n",
        "    Dropout(0.5),\n",
        "    Dense(64, activation='relu'),\n",
        "    Dropout(0.5),\n",
        "    Dense(1, activation='sigmoid')  # Binary classification\n",
        "])"
      ]
    },
    {
      "cell_type": "code",
      "execution_count": null,
      "metadata": {
        "execution": {
          "iopub.execute_input": "2025-02-09T03:40:00.024797Z",
          "iopub.status.busy": "2025-02-09T03:40:00.024511Z",
          "iopub.status.idle": "2025-02-09T03:40:00.047934Z",
          "shell.execute_reply": "2025-02-09T03:40:00.047268Z",
          "shell.execute_reply.started": "2025-02-09T03:40:00.024774Z"
        },
        "trusted": true,
        "id": "gl1Q4u6yexA4",
        "outputId": "da3a0bda-e946-4347-8fdd-86046338cb73"
      },
      "outputs": [
        {
          "data": {
            "text/html": [
              "<pre style=\"white-space:pre;overflow-x:auto;line-height:normal;font-family:Menlo,'DejaVu Sans Mono',consolas,'Courier New',monospace\"><span style=\"font-weight: bold\">Model: \"sequential_1\"</span>\n",
              "</pre>\n"
            ],
            "text/plain": [
              "\u001b[1mModel: \"sequential_1\"\u001b[0m\n"
            ]
          },
          "metadata": {},
          "output_type": "display_data"
        },
        {
          "data": {
            "text/html": [
              "<pre style=\"white-space:pre;overflow-x:auto;line-height:normal;font-family:Menlo,'DejaVu Sans Mono',consolas,'Courier New',monospace\">┏━━━━━━━━━━━━━━━━━━━━━━━━━━━━━━━━━━━━━━┳━━━━━━━━━━━━━━━━━━━━━━━━━━━━━┳━━━━━━━━━━━━━━━━━┓\n",
              "┃<span style=\"font-weight: bold\"> Layer (type)                         </span>┃<span style=\"font-weight: bold\"> Output Shape                </span>┃<span style=\"font-weight: bold\">         Param # </span>┃\n",
              "┡━━━━━━━━━━━━━━━━━━━━━━━━━━━━━━━━━━━━━━╇━━━━━━━━━━━━━━━━━━━━━━━━━━━━━╇━━━━━━━━━━━━━━━━━┩\n",
              "│ simple_rnn_1 (<span style=\"color: #0087ff; text-decoration-color: #0087ff\">SimpleRNN</span>)             │ (<span style=\"color: #00d7ff; text-decoration-color: #00d7ff\">None</span>, <span style=\"color: #00af00; text-decoration-color: #00af00\">128</span>)                 │         <span style=\"color: #00af00; text-decoration-color: #00af00\">114,816</span> │\n",
              "├──────────────────────────────────────┼─────────────────────────────┼─────────────────┤\n",
              "│ dropout_2 (<span style=\"color: #0087ff; text-decoration-color: #0087ff\">Dropout</span>)                  │ (<span style=\"color: #00d7ff; text-decoration-color: #00d7ff\">None</span>, <span style=\"color: #00af00; text-decoration-color: #00af00\">128</span>)                 │               <span style=\"color: #00af00; text-decoration-color: #00af00\">0</span> │\n",
              "├──────────────────────────────────────┼─────────────────────────────┼─────────────────┤\n",
              "│ dense_2 (<span style=\"color: #0087ff; text-decoration-color: #0087ff\">Dense</span>)                      │ (<span style=\"color: #00d7ff; text-decoration-color: #00d7ff\">None</span>, <span style=\"color: #00af00; text-decoration-color: #00af00\">64</span>)                  │           <span style=\"color: #00af00; text-decoration-color: #00af00\">8,256</span> │\n",
              "├──────────────────────────────────────┼─────────────────────────────┼─────────────────┤\n",
              "│ dropout_3 (<span style=\"color: #0087ff; text-decoration-color: #0087ff\">Dropout</span>)                  │ (<span style=\"color: #00d7ff; text-decoration-color: #00d7ff\">None</span>, <span style=\"color: #00af00; text-decoration-color: #00af00\">64</span>)                  │               <span style=\"color: #00af00; text-decoration-color: #00af00\">0</span> │\n",
              "├──────────────────────────────────────┼─────────────────────────────┼─────────────────┤\n",
              "│ dense_3 (<span style=\"color: #0087ff; text-decoration-color: #0087ff\">Dense</span>)                      │ (<span style=\"color: #00d7ff; text-decoration-color: #00d7ff\">None</span>, <span style=\"color: #00af00; text-decoration-color: #00af00\">1</span>)                   │              <span style=\"color: #00af00; text-decoration-color: #00af00\">65</span> │\n",
              "└──────────────────────────────────────┴─────────────────────────────┴─────────────────┘\n",
              "</pre>\n"
            ],
            "text/plain": [
              "┏━━━━━━━━━━━━━━━━━━━━━━━━━━━━━━━━━━━━━━┳━━━━━━━━━━━━━━━━━━━━━━━━━━━━━┳━━━━━━━━━━━━━━━━━┓\n",
              "┃\u001b[1m \u001b[0m\u001b[1mLayer (type)                        \u001b[0m\u001b[1m \u001b[0m┃\u001b[1m \u001b[0m\u001b[1mOutput Shape               \u001b[0m\u001b[1m \u001b[0m┃\u001b[1m \u001b[0m\u001b[1m        Param #\u001b[0m\u001b[1m \u001b[0m┃\n",
              "┡━━━━━━━━━━━━━━━━━━━━━━━━━━━━━━━━━━━━━━╇━━━━━━━━━━━━━━━━━━━━━━━━━━━━━╇━━━━━━━━━━━━━━━━━┩\n",
              "│ simple_rnn_1 (\u001b[38;5;33mSimpleRNN\u001b[0m)             │ (\u001b[38;5;45mNone\u001b[0m, \u001b[38;5;34m128\u001b[0m)                 │         \u001b[38;5;34m114,816\u001b[0m │\n",
              "├──────────────────────────────────────┼─────────────────────────────┼─────────────────┤\n",
              "│ dropout_2 (\u001b[38;5;33mDropout\u001b[0m)                  │ (\u001b[38;5;45mNone\u001b[0m, \u001b[38;5;34m128\u001b[0m)                 │               \u001b[38;5;34m0\u001b[0m │\n",
              "├──────────────────────────────────────┼─────────────────────────────┼─────────────────┤\n",
              "│ dense_2 (\u001b[38;5;33mDense\u001b[0m)                      │ (\u001b[38;5;45mNone\u001b[0m, \u001b[38;5;34m64\u001b[0m)                  │           \u001b[38;5;34m8,256\u001b[0m │\n",
              "├──────────────────────────────────────┼─────────────────────────────┼─────────────────┤\n",
              "│ dropout_3 (\u001b[38;5;33mDropout\u001b[0m)                  │ (\u001b[38;5;45mNone\u001b[0m, \u001b[38;5;34m64\u001b[0m)                  │               \u001b[38;5;34m0\u001b[0m │\n",
              "├──────────────────────────────────────┼─────────────────────────────┼─────────────────┤\n",
              "│ dense_3 (\u001b[38;5;33mDense\u001b[0m)                      │ (\u001b[38;5;45mNone\u001b[0m, \u001b[38;5;34m1\u001b[0m)                   │              \u001b[38;5;34m65\u001b[0m │\n",
              "└──────────────────────────────────────┴─────────────────────────────┴─────────────────┘\n"
            ]
          },
          "metadata": {},
          "output_type": "display_data"
        },
        {
          "data": {
            "text/html": [
              "<pre style=\"white-space:pre;overflow-x:auto;line-height:normal;font-family:Menlo,'DejaVu Sans Mono',consolas,'Courier New',monospace\"><span style=\"font-weight: bold\"> Total params: </span><span style=\"color: #00af00; text-decoration-color: #00af00\">369,413</span> (1.41 MB)\n",
              "</pre>\n"
            ],
            "text/plain": [
              "\u001b[1m Total params: \u001b[0m\u001b[38;5;34m369,413\u001b[0m (1.41 MB)\n"
            ]
          },
          "metadata": {},
          "output_type": "display_data"
        },
        {
          "data": {
            "text/html": [
              "<pre style=\"white-space:pre;overflow-x:auto;line-height:normal;font-family:Menlo,'DejaVu Sans Mono',consolas,'Courier New',monospace\"><span style=\"font-weight: bold\"> Trainable params: </span><span style=\"color: #00af00; text-decoration-color: #00af00\">123,137</span> (481.00 KB)\n",
              "</pre>\n"
            ],
            "text/plain": [
              "\u001b[1m Trainable params: \u001b[0m\u001b[38;5;34m123,137\u001b[0m (481.00 KB)\n"
            ]
          },
          "metadata": {},
          "output_type": "display_data"
        },
        {
          "data": {
            "text/html": [
              "<pre style=\"white-space:pre;overflow-x:auto;line-height:normal;font-family:Menlo,'DejaVu Sans Mono',consolas,'Courier New',monospace\"><span style=\"font-weight: bold\"> Non-trainable params: </span><span style=\"color: #00af00; text-decoration-color: #00af00\">0</span> (0.00 B)\n",
              "</pre>\n"
            ],
            "text/plain": [
              "\u001b[1m Non-trainable params: \u001b[0m\u001b[38;5;34m0\u001b[0m (0.00 B)\n"
            ]
          },
          "metadata": {},
          "output_type": "display_data"
        },
        {
          "data": {
            "text/html": [
              "<pre style=\"white-space:pre;overflow-x:auto;line-height:normal;font-family:Menlo,'DejaVu Sans Mono',consolas,'Courier New',monospace\"><span style=\"font-weight: bold\"> Optimizer params: </span><span style=\"color: #00af00; text-decoration-color: #00af00\">246,276</span> (962.02 KB)\n",
              "</pre>\n"
            ],
            "text/plain": [
              "\u001b[1m Optimizer params: \u001b[0m\u001b[38;5;34m246,276\u001b[0m (962.02 KB)\n"
            ]
          },
          "metadata": {},
          "output_type": "display_data"
        }
      ],
      "source": [
        "# Compile model\n",
        "lstm_model.compile(optimizer='adam', loss='binary_crossentropy', metrics=['accuracy'])\n",
        "rnn_model.summary()"
      ]
    },
    {
      "cell_type": "code",
      "execution_count": null,
      "metadata": {
        "execution": {
          "iopub.execute_input": "2025-02-09T03:40:35.064450Z",
          "iopub.status.busy": "2025-02-09T03:40:35.064140Z",
          "iopub.status.idle": "2025-02-09T03:40:35.068685Z",
          "shell.execute_reply": "2025-02-09T03:40:35.067715Z",
          "shell.execute_reply.started": "2025-02-09T03:40:35.064426Z"
        },
        "trusted": true,
        "id": "B0uA25wWexA4"
      },
      "outputs": [],
      "source": [
        "checkpoint_filepath = \"/kaggle/working/lstm/weights.{epoch:02d}.keras\"\n",
        "modelcheckpoint = ModelCheckpoint(\n",
        "    filepath=checkpoint_filepath,\n",
        "    save_weights_only=False,\n",
        "    monitor='val_loss',\n",
        "    mode='min',#on metric decrease\n",
        "    save_best_only=True\n",
        ")"
      ]
    },
    {
      "cell_type": "code",
      "execution_count": null,
      "metadata": {
        "execution": {
          "iopub.execute_input": "2025-02-09T03:41:32.407806Z",
          "iopub.status.busy": "2025-02-09T03:41:32.407467Z",
          "iopub.status.idle": "2025-02-09T03:44:09.260104Z",
          "shell.execute_reply": "2025-02-09T03:44:09.259404Z",
          "shell.execute_reply.started": "2025-02-09T03:41:32.407781Z"
        },
        "trusted": true,
        "id": "VENzkSM0exA5",
        "outputId": "ba074551-d129-4720-9aa4-2220d4b071c8"
      },
      "outputs": [
        {
          "name": "stdout",
          "output_type": "stream",
          "text": [
            "Epoch 1/10\n",
            "\u001b[1m7219/7219\u001b[0m \u001b[32m━━━━━━━━━━━━━━━━━━━━\u001b[0m\u001b[37m\u001b[0m \u001b[1m22s\u001b[0m 3ms/step - accuracy: 0.7821 - loss: 0.4664 - val_accuracy: 0.8250 - val_loss: 0.3964\n",
            "Epoch 2/10\n",
            "\u001b[1m7219/7219\u001b[0m \u001b[32m━━━━━━━━━━━━━━━━━━━━\u001b[0m\u001b[37m\u001b[0m \u001b[1m15s\u001b[0m 2ms/step - accuracy: 0.8199 - loss: 0.4019 - val_accuracy: 0.8322 - val_loss: 0.3764\n",
            "Epoch 3/10\n",
            "\u001b[1m7219/7219\u001b[0m \u001b[32m━━━━━━━━━━━━━━━━━━━━\u001b[0m\u001b[37m\u001b[0m \u001b[1m15s\u001b[0m 2ms/step - accuracy: 0.8253 - loss: 0.3942 - val_accuracy: 0.8368 - val_loss: 0.3749\n",
            "Epoch 4/10\n",
            "\u001b[1m7219/7219\u001b[0m \u001b[32m━━━━━━━━━━━━━━━━━━━━\u001b[0m\u001b[37m\u001b[0m \u001b[1m15s\u001b[0m 2ms/step - accuracy: 0.8273 - loss: 0.3871 - val_accuracy: 0.8344 - val_loss: 0.3790\n",
            "Epoch 5/10\n",
            "\u001b[1m7219/7219\u001b[0m \u001b[32m━━━━━━━━━━━━━━━━━━━━\u001b[0m\u001b[37m\u001b[0m \u001b[1m15s\u001b[0m 2ms/step - accuracy: 0.8317 - loss: 0.3826 - val_accuracy: 0.8390 - val_loss: 0.3740\n",
            "Epoch 6/10\n",
            "\u001b[1m7219/7219\u001b[0m \u001b[32m━━━━━━━━━━━━━━━━━━━━\u001b[0m\u001b[37m\u001b[0m \u001b[1m15s\u001b[0m 2ms/step - accuracy: 0.8327 - loss: 0.3781 - val_accuracy: 0.8395 - val_loss: 0.3658\n",
            "Epoch 7/10\n",
            "\u001b[1m7219/7219\u001b[0m \u001b[32m━━━━━━━━━━━━━━━━━━━━\u001b[0m\u001b[37m\u001b[0m \u001b[1m15s\u001b[0m 2ms/step - accuracy: 0.8318 - loss: 0.3793 - val_accuracy: 0.8410 - val_loss: 0.3600\n",
            "Epoch 8/10\n",
            "\u001b[1m7219/7219\u001b[0m \u001b[32m━━━━━━━━━━━━━━━━━━━━\u001b[0m\u001b[37m\u001b[0m \u001b[1m15s\u001b[0m 2ms/step - accuracy: 0.8343 - loss: 0.3716 - val_accuracy: 0.8419 - val_loss: 0.3647\n",
            "Epoch 9/10\n",
            "\u001b[1m7219/7219\u001b[0m \u001b[32m━━━━━━━━━━━━━━━━━━━━\u001b[0m\u001b[37m\u001b[0m \u001b[1m15s\u001b[0m 2ms/step - accuracy: 0.8362 - loss: 0.3722 - val_accuracy: 0.8427 - val_loss: 0.3572\n",
            "Epoch 10/10\n",
            "\u001b[1m7219/7219\u001b[0m \u001b[32m━━━━━━━━━━━━━━━━━━━━\u001b[0m\u001b[37m\u001b[0m \u001b[1m15s\u001b[0m 2ms/step - accuracy: 0.8369 - loss: 0.3705 - val_accuracy: 0.8445 - val_loss: 0.3584\n"
          ]
        }
      ],
      "source": [
        "\n",
        "# Train the LSTM model\n",
        "lstm_model.fit(\n",
        "    train_embeddings_rnn, train_labels,\n",
        "    epochs=10, batch_size=32,\n",
        "    validation_data=(test_embeddings_rnn, test_labels),\n",
        "    callbacks=[modelcheckpoint]\n",
        ")\n"
      ]
    },
    {
      "cell_type": "markdown",
      "metadata": {
        "id": "IA9IPeKVexA5"
      },
      "source": [
        "## Bi_LSTM\n",
        "----------------------------"
      ]
    },
    {
      "cell_type": "code",
      "execution_count": null,
      "metadata": {
        "execution": {
          "iopub.execute_input": "2025-02-09T03:47:43.883453Z",
          "iopub.status.busy": "2025-02-09T03:47:43.883092Z",
          "iopub.status.idle": "2025-02-09T03:47:43.951908Z",
          "shell.execute_reply": "2025-02-09T03:47:43.951266Z",
          "shell.execute_reply.started": "2025-02-09T03:47:43.883427Z"
        },
        "trusted": true,
        "id": "DVsJe-zoexA-"
      },
      "outputs": [],
      "source": [
        "# Build the Bi-Directional LSTM model using an Input layer\n",
        "bi_lstm_model = Sequential([\n",
        "    # Define the input shape explicitly\n",
        "    Input(shape=(train_embeddings_rnn.shape[1], train_embeddings_rnn.shape[2])),  # e.g., (1, 768)\n",
        "    Bidirectional(LSTM(128, activation='relu')),\n",
        "    Dropout(0.5),\n",
        "    Dense(64, activation='relu'),\n",
        "    Dropout(0.5),\n",
        "    Dense(1, activation='sigmoid')  # For binary classification\n",
        "])"
      ]
    },
    {
      "cell_type": "code",
      "execution_count": null,
      "metadata": {
        "execution": {
          "iopub.execute_input": "2025-02-09T03:48:33.990169Z",
          "iopub.status.busy": "2025-02-09T03:48:33.989808Z",
          "iopub.status.idle": "2025-02-09T03:48:34.010720Z",
          "shell.execute_reply": "2025-02-09T03:48:34.009782Z",
          "shell.execute_reply.started": "2025-02-09T03:48:33.990141Z"
        },
        "trusted": true,
        "id": "ZUGUj_DvexA_",
        "outputId": "36ce1d10-1b64-4cc3-ac50-839a8460eee3"
      },
      "outputs": [
        {
          "data": {
            "text/html": [
              "<pre style=\"white-space:pre;overflow-x:auto;line-height:normal;font-family:Menlo,'DejaVu Sans Mono',consolas,'Courier New',monospace\"><span style=\"font-weight: bold\">Model: \"sequential_6\"</span>\n",
              "</pre>\n"
            ],
            "text/plain": [
              "\u001b[1mModel: \"sequential_6\"\u001b[0m\n"
            ]
          },
          "metadata": {},
          "output_type": "display_data"
        },
        {
          "data": {
            "text/html": [
              "<pre style=\"white-space:pre;overflow-x:auto;line-height:normal;font-family:Menlo,'DejaVu Sans Mono',consolas,'Courier New',monospace\">┏━━━━━━━━━━━━━━━━━━━━━━━━━━━━━━━━━━━━━━┳━━━━━━━━━━━━━━━━━━━━━━━━━━━━━┳━━━━━━━━━━━━━━━━━┓\n",
              "┃<span style=\"font-weight: bold\"> Layer (type)                         </span>┃<span style=\"font-weight: bold\"> Output Shape                </span>┃<span style=\"font-weight: bold\">         Param # </span>┃\n",
              "┡━━━━━━━━━━━━━━━━━━━━━━━━━━━━━━━━━━━━━━╇━━━━━━━━━━━━━━━━━━━━━━━━━━━━━╇━━━━━━━━━━━━━━━━━┩\n",
              "│ bidirectional_2 (<span style=\"color: #0087ff; text-decoration-color: #0087ff\">Bidirectional</span>)      │ (<span style=\"color: #00d7ff; text-decoration-color: #00d7ff\">None</span>, <span style=\"color: #00af00; text-decoration-color: #00af00\">256</span>)                 │         <span style=\"color: #00af00; text-decoration-color: #00af00\">918,528</span> │\n",
              "├──────────────────────────────────────┼─────────────────────────────┼─────────────────┤\n",
              "│ dropout_12 (<span style=\"color: #0087ff; text-decoration-color: #0087ff\">Dropout</span>)                 │ (<span style=\"color: #00d7ff; text-decoration-color: #00d7ff\">None</span>, <span style=\"color: #00af00; text-decoration-color: #00af00\">256</span>)                 │               <span style=\"color: #00af00; text-decoration-color: #00af00\">0</span> │\n",
              "├──────────────────────────────────────┼─────────────────────────────┼─────────────────┤\n",
              "│ dense_12 (<span style=\"color: #0087ff; text-decoration-color: #0087ff\">Dense</span>)                     │ (<span style=\"color: #00d7ff; text-decoration-color: #00d7ff\">None</span>, <span style=\"color: #00af00; text-decoration-color: #00af00\">64</span>)                  │          <span style=\"color: #00af00; text-decoration-color: #00af00\">16,448</span> │\n",
              "├──────────────────────────────────────┼─────────────────────────────┼─────────────────┤\n",
              "│ dropout_13 (<span style=\"color: #0087ff; text-decoration-color: #0087ff\">Dropout</span>)                 │ (<span style=\"color: #00d7ff; text-decoration-color: #00d7ff\">None</span>, <span style=\"color: #00af00; text-decoration-color: #00af00\">64</span>)                  │               <span style=\"color: #00af00; text-decoration-color: #00af00\">0</span> │\n",
              "├──────────────────────────────────────┼─────────────────────────────┼─────────────────┤\n",
              "│ dense_13 (<span style=\"color: #0087ff; text-decoration-color: #0087ff\">Dense</span>)                     │ (<span style=\"color: #00d7ff; text-decoration-color: #00d7ff\">None</span>, <span style=\"color: #00af00; text-decoration-color: #00af00\">1</span>)                   │              <span style=\"color: #00af00; text-decoration-color: #00af00\">65</span> │\n",
              "└──────────────────────────────────────┴─────────────────────────────┴─────────────────┘\n",
              "</pre>\n"
            ],
            "text/plain": [
              "┏━━━━━━━━━━━━━━━━━━━━━━━━━━━━━━━━━━━━━━┳━━━━━━━━━━━━━━━━━━━━━━━━━━━━━┳━━━━━━━━━━━━━━━━━┓\n",
              "┃\u001b[1m \u001b[0m\u001b[1mLayer (type)                        \u001b[0m\u001b[1m \u001b[0m┃\u001b[1m \u001b[0m\u001b[1mOutput Shape               \u001b[0m\u001b[1m \u001b[0m┃\u001b[1m \u001b[0m\u001b[1m        Param #\u001b[0m\u001b[1m \u001b[0m┃\n",
              "┡━━━━━━━━━━━━━━━━━━━━━━━━━━━━━━━━━━━━━━╇━━━━━━━━━━━━━━━━━━━━━━━━━━━━━╇━━━━━━━━━━━━━━━━━┩\n",
              "│ bidirectional_2 (\u001b[38;5;33mBidirectional\u001b[0m)      │ (\u001b[38;5;45mNone\u001b[0m, \u001b[38;5;34m256\u001b[0m)                 │         \u001b[38;5;34m918,528\u001b[0m │\n",
              "├──────────────────────────────────────┼─────────────────────────────┼─────────────────┤\n",
              "│ dropout_12 (\u001b[38;5;33mDropout\u001b[0m)                 │ (\u001b[38;5;45mNone\u001b[0m, \u001b[38;5;34m256\u001b[0m)                 │               \u001b[38;5;34m0\u001b[0m │\n",
              "├──────────────────────────────────────┼─────────────────────────────┼─────────────────┤\n",
              "│ dense_12 (\u001b[38;5;33mDense\u001b[0m)                     │ (\u001b[38;5;45mNone\u001b[0m, \u001b[38;5;34m64\u001b[0m)                  │          \u001b[38;5;34m16,448\u001b[0m │\n",
              "├──────────────────────────────────────┼─────────────────────────────┼─────────────────┤\n",
              "│ dropout_13 (\u001b[38;5;33mDropout\u001b[0m)                 │ (\u001b[38;5;45mNone\u001b[0m, \u001b[38;5;34m64\u001b[0m)                  │               \u001b[38;5;34m0\u001b[0m │\n",
              "├──────────────────────────────────────┼─────────────────────────────┼─────────────────┤\n",
              "│ dense_13 (\u001b[38;5;33mDense\u001b[0m)                     │ (\u001b[38;5;45mNone\u001b[0m, \u001b[38;5;34m1\u001b[0m)                   │              \u001b[38;5;34m65\u001b[0m │\n",
              "└──────────────────────────────────────┴─────────────────────────────┴─────────────────┘\n"
            ]
          },
          "metadata": {},
          "output_type": "display_data"
        },
        {
          "data": {
            "text/html": [
              "<pre style=\"white-space:pre;overflow-x:auto;line-height:normal;font-family:Menlo,'DejaVu Sans Mono',consolas,'Courier New',monospace\"><span style=\"font-weight: bold\"> Total params: </span><span style=\"color: #00af00; text-decoration-color: #00af00\">935,041</span> (3.57 MB)\n",
              "</pre>\n"
            ],
            "text/plain": [
              "\u001b[1m Total params: \u001b[0m\u001b[38;5;34m935,041\u001b[0m (3.57 MB)\n"
            ]
          },
          "metadata": {},
          "output_type": "display_data"
        },
        {
          "data": {
            "text/html": [
              "<pre style=\"white-space:pre;overflow-x:auto;line-height:normal;font-family:Menlo,'DejaVu Sans Mono',consolas,'Courier New',monospace\"><span style=\"font-weight: bold\"> Trainable params: </span><span style=\"color: #00af00; text-decoration-color: #00af00\">935,041</span> (3.57 MB)\n",
              "</pre>\n"
            ],
            "text/plain": [
              "\u001b[1m Trainable params: \u001b[0m\u001b[38;5;34m935,041\u001b[0m (3.57 MB)\n"
            ]
          },
          "metadata": {},
          "output_type": "display_data"
        },
        {
          "data": {
            "text/html": [
              "<pre style=\"white-space:pre;overflow-x:auto;line-height:normal;font-family:Menlo,'DejaVu Sans Mono',consolas,'Courier New',monospace\"><span style=\"font-weight: bold\"> Non-trainable params: </span><span style=\"color: #00af00; text-decoration-color: #00af00\">0</span> (0.00 B)\n",
              "</pre>\n"
            ],
            "text/plain": [
              "\u001b[1m Non-trainable params: \u001b[0m\u001b[38;5;34m0\u001b[0m (0.00 B)\n"
            ]
          },
          "metadata": {},
          "output_type": "display_data"
        }
      ],
      "source": [
        "bi_lstm_model.compile(optimizer='adam', loss='binary_crossentropy', metrics=['accuracy'])\n",
        "bi_lstm_model.summary()"
      ]
    },
    {
      "cell_type": "code",
      "execution_count": null,
      "metadata": {
        "execution": {
          "iopub.execute_input": "2025-02-09T03:50:53.475676Z",
          "iopub.status.busy": "2025-02-09T03:50:53.475270Z",
          "iopub.status.idle": "2025-02-09T03:53:48.288156Z",
          "shell.execute_reply": "2025-02-09T03:53:48.287139Z",
          "shell.execute_reply.started": "2025-02-09T03:50:53.475627Z"
        },
        "trusted": true,
        "id": "KHS14XejexA_",
        "outputId": "6ab26c91-3d6f-454e-f572-cb4a17044360"
      },
      "outputs": [
        {
          "name": "stdout",
          "output_type": "stream",
          "text": [
            "Epoch 1/10\n",
            "\u001b[1m7219/7219\u001b[0m \u001b[32m━━━━━━━━━━━━━━━━━━━━\u001b[0m\u001b[37m\u001b[0m \u001b[1m25s\u001b[0m 3ms/step - accuracy: 0.7838 - loss: 0.4613 - val_accuracy: 0.8257 - val_loss: 0.3867\n",
            "Epoch 2/10\n",
            "\u001b[1m7219/7219\u001b[0m \u001b[32m━━━━━━━━━━━━━━━━━━━━\u001b[0m\u001b[37m\u001b[0m \u001b[1m16s\u001b[0m 2ms/step - accuracy: 0.8197 - loss: 0.4034 - val_accuracy: 0.8345 - val_loss: 0.3718\n",
            "Epoch 3/10\n",
            "\u001b[1m7219/7219\u001b[0m \u001b[32m━━━━━━━━━━━━━━━━━━━━\u001b[0m\u001b[37m\u001b[0m \u001b[1m17s\u001b[0m 2ms/step - accuracy: 0.8271 - loss: 0.3920 - val_accuracy: 0.8350 - val_loss: 0.3713\n",
            "Epoch 4/10\n",
            "\u001b[1m7219/7219\u001b[0m \u001b[32m━━━━━━━━━━━━━━━━━━━━\u001b[0m\u001b[37m\u001b[0m \u001b[1m16s\u001b[0m 2ms/step - accuracy: 0.8309 - loss: 0.3834 - val_accuracy: 0.8366 - val_loss: 0.3636\n",
            "Epoch 5/10\n",
            "\u001b[1m7219/7219\u001b[0m \u001b[32m━━━━━━━━━━━━━━━━━━━━\u001b[0m\u001b[37m\u001b[0m \u001b[1m16s\u001b[0m 2ms/step - accuracy: 0.8339 - loss: 0.3771 - val_accuracy: 0.8420 - val_loss: 0.3594\n",
            "Epoch 6/10\n",
            "\u001b[1m7219/7219\u001b[0m \u001b[32m━━━━━━━━━━━━━━━━━━━━\u001b[0m\u001b[37m\u001b[0m \u001b[1m16s\u001b[0m 2ms/step - accuracy: 0.8354 - loss: 0.3743 - val_accuracy: 0.8422 - val_loss: 0.3572\n",
            "Epoch 7/10\n",
            "\u001b[1m7219/7219\u001b[0m \u001b[32m━━━━━━━━━━━━━━━━━━━━\u001b[0m\u001b[37m\u001b[0m \u001b[1m16s\u001b[0m 2ms/step - accuracy: 0.8365 - loss: 0.3729 - val_accuracy: 0.8438 - val_loss: 0.3544\n",
            "Epoch 8/10\n",
            "\u001b[1m7219/7219\u001b[0m \u001b[32m━━━━━━━━━━━━━━━━━━━━\u001b[0m\u001b[37m\u001b[0m \u001b[1m16s\u001b[0m 2ms/step - accuracy: 0.8379 - loss: 0.3704 - val_accuracy: 0.8424 - val_loss: 0.3605\n",
            "Epoch 9/10\n",
            "\u001b[1m7219/7219\u001b[0m \u001b[32m━━━━━━━━━━━━━━━━━━━━\u001b[0m\u001b[37m\u001b[0m \u001b[1m16s\u001b[0m 2ms/step - accuracy: 0.8377 - loss: 0.3672 - val_accuracy: 0.8454 - val_loss: 0.3509\n",
            "Epoch 10/10\n",
            "\u001b[1m7219/7219\u001b[0m \u001b[32m━━━━━━━━━━━━━━━━━━━━\u001b[0m\u001b[37m\u001b[0m \u001b[1m16s\u001b[0m 2ms/step - accuracy: 0.8405 - loss: 0.3638 - val_accuracy: 0.8431 - val_loss: 0.3537\n"
          ]
        },
        {
          "data": {
            "text/plain": [
              "<keras.src.callbacks.history.History at 0x7d81d6fd8070>"
            ]
          },
          "execution_count": 86,
          "metadata": {},
          "output_type": "execute_result"
        }
      ],
      "source": [
        "bi_lstm_model.fit(\n",
        "    train_embeddings_rnn, train_labels,\n",
        "    epochs=10,\n",
        "    batch_size=32,\n",
        "    validation_data=(test_embeddings_rnn, test_labels))"
      ]
    },
    {
      "cell_type": "code",
      "execution_count": null,
      "metadata": {
        "trusted": true,
        "id": "jjkKBZ_MexA_"
      },
      "outputs": [],
      "source": []
    },
    {
      "cell_type": "markdown",
      "metadata": {
        "id": "sCZtPkrdexBA"
      },
      "source": [
        "## Bi_RNN\n",
        "----------------------------"
      ]
    },
    {
      "cell_type": "code",
      "execution_count": null,
      "metadata": {
        "execution": {
          "iopub.execute_input": "2025-02-09T03:54:18.908106Z",
          "iopub.status.busy": "2025-02-09T03:54:18.907802Z",
          "iopub.status.idle": "2025-02-09T03:54:18.972063Z",
          "shell.execute_reply": "2025-02-09T03:54:18.971267Z",
          "shell.execute_reply.started": "2025-02-09T03:54:18.908082Z"
        },
        "trusted": true,
        "id": "eadIn_W9exBA"
      },
      "outputs": [],
      "source": [
        "# Build the Bi-Directional LSTM model using an Input layer\n",
        "bi_rnn_model = Sequential([\n",
        "    # Define the input shape explicitly\n",
        "    Input(shape=(train_embeddings_rnn.shape[1], train_embeddings_rnn.shape[2])),  # e.g., (1, 768)\n",
        "    Bidirectional(SimpleRNN(128, activation='relu')),\n",
        "    Dropout(0.5),\n",
        "    Dense(64, activation='relu'),\n",
        "    Dropout(0.5),\n",
        "    Dense(1, activation='sigmoid')  # For binary classification\n",
        "])"
      ]
    },
    {
      "cell_type": "code",
      "execution_count": null,
      "metadata": {
        "execution": {
          "iopub.execute_input": "2025-02-09T03:54:46.060798Z",
          "iopub.status.busy": "2025-02-09T03:54:46.060480Z",
          "iopub.status.idle": "2025-02-09T03:54:46.081197Z",
          "shell.execute_reply": "2025-02-09T03:54:46.080480Z",
          "shell.execute_reply.started": "2025-02-09T03:54:46.060768Z"
        },
        "trusted": true,
        "id": "Fe-1pcBjexBA",
        "outputId": "b8d5c852-eaaf-41fc-9ad6-25de460411c2"
      },
      "outputs": [
        {
          "data": {
            "text/html": [
              "<pre style=\"white-space:pre;overflow-x:auto;line-height:normal;font-family:Menlo,'DejaVu Sans Mono',consolas,'Courier New',monospace\"><span style=\"font-weight: bold\">Model: \"sequential_8\"</span>\n",
              "</pre>\n"
            ],
            "text/plain": [
              "\u001b[1mModel: \"sequential_8\"\u001b[0m\n"
            ]
          },
          "metadata": {},
          "output_type": "display_data"
        },
        {
          "data": {
            "text/html": [
              "<pre style=\"white-space:pre;overflow-x:auto;line-height:normal;font-family:Menlo,'DejaVu Sans Mono',consolas,'Courier New',monospace\">┏━━━━━━━━━━━━━━━━━━━━━━━━━━━━━━━━━━━━━━┳━━━━━━━━━━━━━━━━━━━━━━━━━━━━━┳━━━━━━━━━━━━━━━━━┓\n",
              "┃<span style=\"font-weight: bold\"> Layer (type)                         </span>┃<span style=\"font-weight: bold\"> Output Shape                </span>┃<span style=\"font-weight: bold\">         Param # </span>┃\n",
              "┡━━━━━━━━━━━━━━━━━━━━━━━━━━━━━━━━━━━━━━╇━━━━━━━━━━━━━━━━━━━━━━━━━━━━━╇━━━━━━━━━━━━━━━━━┩\n",
              "│ bidirectional_4 (<span style=\"color: #0087ff; text-decoration-color: #0087ff\">Bidirectional</span>)      │ (<span style=\"color: #00d7ff; text-decoration-color: #00d7ff\">None</span>, <span style=\"color: #00af00; text-decoration-color: #00af00\">256</span>)                 │         <span style=\"color: #00af00; text-decoration-color: #00af00\">229,632</span> │\n",
              "├──────────────────────────────────────┼─────────────────────────────┼─────────────────┤\n",
              "│ dropout_16 (<span style=\"color: #0087ff; text-decoration-color: #0087ff\">Dropout</span>)                 │ (<span style=\"color: #00d7ff; text-decoration-color: #00d7ff\">None</span>, <span style=\"color: #00af00; text-decoration-color: #00af00\">256</span>)                 │               <span style=\"color: #00af00; text-decoration-color: #00af00\">0</span> │\n",
              "├──────────────────────────────────────┼─────────────────────────────┼─────────────────┤\n",
              "│ dense_16 (<span style=\"color: #0087ff; text-decoration-color: #0087ff\">Dense</span>)                     │ (<span style=\"color: #00d7ff; text-decoration-color: #00d7ff\">None</span>, <span style=\"color: #00af00; text-decoration-color: #00af00\">64</span>)                  │          <span style=\"color: #00af00; text-decoration-color: #00af00\">16,448</span> │\n",
              "├──────────────────────────────────────┼─────────────────────────────┼─────────────────┤\n",
              "│ dropout_17 (<span style=\"color: #0087ff; text-decoration-color: #0087ff\">Dropout</span>)                 │ (<span style=\"color: #00d7ff; text-decoration-color: #00d7ff\">None</span>, <span style=\"color: #00af00; text-decoration-color: #00af00\">64</span>)                  │               <span style=\"color: #00af00; text-decoration-color: #00af00\">0</span> │\n",
              "├──────────────────────────────────────┼─────────────────────────────┼─────────────────┤\n",
              "│ dense_17 (<span style=\"color: #0087ff; text-decoration-color: #0087ff\">Dense</span>)                     │ (<span style=\"color: #00d7ff; text-decoration-color: #00d7ff\">None</span>, <span style=\"color: #00af00; text-decoration-color: #00af00\">1</span>)                   │              <span style=\"color: #00af00; text-decoration-color: #00af00\">65</span> │\n",
              "└──────────────────────────────────────┴─────────────────────────────┴─────────────────┘\n",
              "</pre>\n"
            ],
            "text/plain": [
              "┏━━━━━━━━━━━━━━━━━━━━━━━━━━━━━━━━━━━━━━┳━━━━━━━━━━━━━━━━━━━━━━━━━━━━━┳━━━━━━━━━━━━━━━━━┓\n",
              "┃\u001b[1m \u001b[0m\u001b[1mLayer (type)                        \u001b[0m\u001b[1m \u001b[0m┃\u001b[1m \u001b[0m\u001b[1mOutput Shape               \u001b[0m\u001b[1m \u001b[0m┃\u001b[1m \u001b[0m\u001b[1m        Param #\u001b[0m\u001b[1m \u001b[0m┃\n",
              "┡━━━━━━━━━━━━━━━━━━━━━━━━━━━━━━━━━━━━━━╇━━━━━━━━━━━━━━━━━━━━━━━━━━━━━╇━━━━━━━━━━━━━━━━━┩\n",
              "│ bidirectional_4 (\u001b[38;5;33mBidirectional\u001b[0m)      │ (\u001b[38;5;45mNone\u001b[0m, \u001b[38;5;34m256\u001b[0m)                 │         \u001b[38;5;34m229,632\u001b[0m │\n",
              "├──────────────────────────────────────┼─────────────────────────────┼─────────────────┤\n",
              "│ dropout_16 (\u001b[38;5;33mDropout\u001b[0m)                 │ (\u001b[38;5;45mNone\u001b[0m, \u001b[38;5;34m256\u001b[0m)                 │               \u001b[38;5;34m0\u001b[0m │\n",
              "├──────────────────────────────────────┼─────────────────────────────┼─────────────────┤\n",
              "│ dense_16 (\u001b[38;5;33mDense\u001b[0m)                     │ (\u001b[38;5;45mNone\u001b[0m, \u001b[38;5;34m64\u001b[0m)                  │          \u001b[38;5;34m16,448\u001b[0m │\n",
              "├──────────────────────────────────────┼─────────────────────────────┼─────────────────┤\n",
              "│ dropout_17 (\u001b[38;5;33mDropout\u001b[0m)                 │ (\u001b[38;5;45mNone\u001b[0m, \u001b[38;5;34m64\u001b[0m)                  │               \u001b[38;5;34m0\u001b[0m │\n",
              "├──────────────────────────────────────┼─────────────────────────────┼─────────────────┤\n",
              "│ dense_17 (\u001b[38;5;33mDense\u001b[0m)                     │ (\u001b[38;5;45mNone\u001b[0m, \u001b[38;5;34m1\u001b[0m)                   │              \u001b[38;5;34m65\u001b[0m │\n",
              "└──────────────────────────────────────┴─────────────────────────────┴─────────────────┘\n"
            ]
          },
          "metadata": {},
          "output_type": "display_data"
        },
        {
          "data": {
            "text/html": [
              "<pre style=\"white-space:pre;overflow-x:auto;line-height:normal;font-family:Menlo,'DejaVu Sans Mono',consolas,'Courier New',monospace\"><span style=\"font-weight: bold\"> Total params: </span><span style=\"color: #00af00; text-decoration-color: #00af00\">246,145</span> (961.50 KB)\n",
              "</pre>\n"
            ],
            "text/plain": [
              "\u001b[1m Total params: \u001b[0m\u001b[38;5;34m246,145\u001b[0m (961.50 KB)\n"
            ]
          },
          "metadata": {},
          "output_type": "display_data"
        },
        {
          "data": {
            "text/html": [
              "<pre style=\"white-space:pre;overflow-x:auto;line-height:normal;font-family:Menlo,'DejaVu Sans Mono',consolas,'Courier New',monospace\"><span style=\"font-weight: bold\"> Trainable params: </span><span style=\"color: #00af00; text-decoration-color: #00af00\">246,145</span> (961.50 KB)\n",
              "</pre>\n"
            ],
            "text/plain": [
              "\u001b[1m Trainable params: \u001b[0m\u001b[38;5;34m246,145\u001b[0m (961.50 KB)\n"
            ]
          },
          "metadata": {},
          "output_type": "display_data"
        },
        {
          "data": {
            "text/html": [
              "<pre style=\"white-space:pre;overflow-x:auto;line-height:normal;font-family:Menlo,'DejaVu Sans Mono',consolas,'Courier New',monospace\"><span style=\"font-weight: bold\"> Non-trainable params: </span><span style=\"color: #00af00; text-decoration-color: #00af00\">0</span> (0.00 B)\n",
              "</pre>\n"
            ],
            "text/plain": [
              "\u001b[1m Non-trainable params: \u001b[0m\u001b[38;5;34m0\u001b[0m (0.00 B)\n"
            ]
          },
          "metadata": {},
          "output_type": "display_data"
        }
      ],
      "source": [
        "bi_rnn_model.compile(optimizer='adam', loss='binary_crossentropy', metrics=['accuracy'])\n",
        "bi_rnn_model.summary()"
      ]
    },
    {
      "cell_type": "code",
      "execution_count": null,
      "metadata": {
        "execution": {
          "iopub.execute_input": "2025-02-09T03:54:47.980551Z",
          "iopub.status.busy": "2025-02-09T03:54:47.980148Z",
          "iopub.status.idle": "2025-02-09T03:57:30.528493Z",
          "shell.execute_reply": "2025-02-09T03:57:30.527488Z",
          "shell.execute_reply.started": "2025-02-09T03:54:47.980525Z"
        },
        "trusted": true,
        "id": "kZ8f8A2KexBA",
        "outputId": "1ee69201-a091-4f6a-8dfb-af4b38e5f7ca"
      },
      "outputs": [
        {
          "name": "stdout",
          "output_type": "stream",
          "text": [
            "Epoch 1/10\n",
            "\u001b[1m7219/7219\u001b[0m \u001b[32m━━━━━━━━━━━━━━━━━━━━\u001b[0m\u001b[37m\u001b[0m \u001b[1m23s\u001b[0m 3ms/step - accuracy: 0.7795 - loss: 0.4704 - val_accuracy: 0.8292 - val_loss: 0.3799\n",
            "Epoch 2/10\n",
            "\u001b[1m7219/7219\u001b[0m \u001b[32m━━━━━━━━━━━━━━━━━━━━\u001b[0m\u001b[37m\u001b[0m \u001b[1m16s\u001b[0m 2ms/step - accuracy: 0.8189 - loss: 0.4045 - val_accuracy: 0.8326 - val_loss: 0.3748\n",
            "Epoch 3/10\n",
            "\u001b[1m7219/7219\u001b[0m \u001b[32m━━━━━━━━━━━━━━━━━━━━\u001b[0m\u001b[37m\u001b[0m \u001b[1m15s\u001b[0m 2ms/step - accuracy: 0.8248 - loss: 0.3932 - val_accuracy: 0.8363 - val_loss: 0.3729\n",
            "Epoch 4/10\n",
            "\u001b[1m7219/7219\u001b[0m \u001b[32m━━━━━━━━━━━━━━━━━━━━\u001b[0m\u001b[37m\u001b[0m \u001b[1m15s\u001b[0m 2ms/step - accuracy: 0.8281 - loss: 0.3885 - val_accuracy: 0.8382 - val_loss: 0.3641\n",
            "Epoch 5/10\n",
            "\u001b[1m7219/7219\u001b[0m \u001b[32m━━━━━━━━━━━━━━━━━━━━\u001b[0m\u001b[37m\u001b[0m \u001b[1m15s\u001b[0m 2ms/step - accuracy: 0.8308 - loss: 0.3831 - val_accuracy: 0.8396 - val_loss: 0.3631\n",
            "Epoch 6/10\n",
            "\u001b[1m7219/7219\u001b[0m \u001b[32m━━━━━━━━━━━━━━━━━━━━\u001b[0m\u001b[37m\u001b[0m \u001b[1m15s\u001b[0m 2ms/step - accuracy: 0.8325 - loss: 0.3789 - val_accuracy: 0.8414 - val_loss: 0.3596\n",
            "Epoch 7/10\n",
            "\u001b[1m7219/7219\u001b[0m \u001b[32m━━━━━━━━━━━━━━━━━━━━\u001b[0m\u001b[37m\u001b[0m \u001b[1m15s\u001b[0m 2ms/step - accuracy: 0.8329 - loss: 0.3778 - val_accuracy: 0.8397 - val_loss: 0.3638\n",
            "Epoch 8/10\n",
            "\u001b[1m7219/7219\u001b[0m \u001b[32m━━━━━━━━━━━━━━━━━━━━\u001b[0m\u001b[37m\u001b[0m \u001b[1m15s\u001b[0m 2ms/step - accuracy: 0.8363 - loss: 0.3742 - val_accuracy: 0.8400 - val_loss: 0.3670\n",
            "Epoch 9/10\n",
            "\u001b[1m7219/7219\u001b[0m \u001b[32m━━━━━━━━━━━━━━━━━━━━\u001b[0m\u001b[37m\u001b[0m \u001b[1m15s\u001b[0m 2ms/step - accuracy: 0.8373 - loss: 0.3725 - val_accuracy: 0.8371 - val_loss: 0.3651\n",
            "Epoch 10/10\n",
            "\u001b[1m7219/7219\u001b[0m \u001b[32m━━━━━━━━━━━━━━━━━━━━\u001b[0m\u001b[37m\u001b[0m \u001b[1m15s\u001b[0m 2ms/step - accuracy: 0.8374 - loss: 0.3725 - val_accuracy: 0.8425 - val_loss: 0.3552\n"
          ]
        },
        {
          "data": {
            "text/plain": [
              "<keras.src.callbacks.history.History at 0x7d80aa140f70>"
            ]
          },
          "execution_count": 93,
          "metadata": {},
          "output_type": "execute_result"
        }
      ],
      "source": [
        "bi_rnn_model.fit(\n",
        "    train_embeddings_rnn, train_labels,\n",
        "    epochs=10,\n",
        "    batch_size=32,\n",
        "    validation_data=(test_embeddings_rnn, test_labels))"
      ]
    },
    {
      "cell_type": "code",
      "execution_count": null,
      "metadata": {
        "trusted": true,
        "id": "TJRKsS_YexBB"
      },
      "outputs": [],
      "source": []
    }
  ],
  "metadata": {
    "kaggle": {
      "accelerator": "nvidiaTeslaT4",
      "dataSources": [
        {
          "datasetId": 5577640,
          "sourceId": 9222859,
          "sourceType": "datasetVersion"
        }
      ],
      "dockerImageVersionId": 30887,
      "isGpuEnabled": true,
      "isInternetEnabled": true,
      "language": "python",
      "sourceType": "notebook"
    },
    "kernelspec": {
      "display_name": "Python 3",
      "language": "python",
      "name": "python3"
    },
    "language_info": {
      "codemirror_mode": {
        "name": "ipython",
        "version": 3
      },
      "file_extension": ".py",
      "mimetype": "text/x-python",
      "name": "python",
      "nbconvert_exporter": "python",
      "pygments_lexer": "ipython3",
      "version": "3.10.12"
    },
    "colab": {
      "provenance": []
    }
  },
  "nbformat": 4,
  "nbformat_minor": 0
}